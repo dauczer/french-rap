{
  "nbformat": 4,
  "nbformat_minor": 0,
  "metadata": {
    "colab": {
      "provenance": [],
      "mount_file_id": "1EqeP1QfgOs816_NQUZNQn6U-_g5z3Ij6",
      "authorship_tag": "ABX9TyPBvFCwm7JoeP8oiWOO/nPJ"
    },
    "kernelspec": {
      "name": "python3",
      "display_name": "Python 3"
    },
    "language_info": {
      "name": "python"
    }
  },
  "cells": [
    {
      "cell_type": "code",
      "execution_count": 26,
      "metadata": {
        "id": "MVudnBmseDkQ",
        "colab": {
          "base_uri": "https://localhost:8080/"
        },
        "outputId": "5bad9546-75d1-4863-cfa4-0ac8e36170c8"
      },
      "outputs": [
        {
          "output_type": "stream",
          "name": "stdout",
          "text": [
            "Drive already mounted at /content/drive; to attempt to forcibly remount, call drive.mount(\"/content/drive\", force_remount=True).\n"
          ]
        }
      ],
      "source": [
        "from google.colab import drive\n",
        "drive.mount('/content/drive')"
      ]
    },
    {
      "cell_type": "code",
      "source": [
        "import pandas as pd\n",
        "import matplotlib.pyplot as plt\n",
        "import seaborn as sns"
      ],
      "metadata": {
        "id": "PHLjJnWLfT38"
      },
      "execution_count": 27,
      "outputs": []
    },
    {
      "cell_type": "markdown",
      "source": [
        "## Importing data and basic analysis"
      ],
      "metadata": {
        "id": "J3jCGmvYvEAY"
      }
    },
    {
      "cell_type": "code",
      "source": [
        "data = pd.read_csv('/content/drive/MyDrive/datas/dataset_rap.csv', sep=',')"
      ],
      "metadata": {
        "id": "nsMjFHFWjUOc"
      },
      "execution_count": 28,
      "outputs": []
    },
    {
      "cell_type": "code",
      "source": [
        "data.head(10)"
      ],
      "metadata": {
        "id": "hmN4C87ifleP",
        "colab": {
          "base_uri": "https://localhost:8080/",
          "height": 363
        },
        "outputId": "3f378e4f-b2a6-469d-8955-9180b276227a"
      },
      "execution_count": 29,
      "outputs": [
        {
          "output_type": "execute_result",
          "data": {
            "text/plain": [
              "   Unnamed: 0     artist                     title    year  \\\n",
              "0           0  100 Blaze                     ASKIP  2022.0   \n",
              "1           1  100 Blaze                     Balec  2019.0   \n",
              "2           2  100 Blaze              Black Gogeta  2018.0   \n",
              "3           3  100 Blaze            Black Or White  2022.0   \n",
              "4           4  100 Blaze                  Blazedog  2022.0   \n",
              "5           5  100 Blaze                      Blow  2022.0   \n",
              "6           6  100 Blaze          Boosk’Castellane  2018.0   \n",
              "7           7  100 Blaze                    Brolik  2018.0   \n",
              "8           8  100 Blaze  Ce qu’il se passe dehors  2019.0   \n",
              "9           9  100 Blaze                      Coco  2022.0   \n",
              "\n",
              "                                            lyrics_x  \n",
              "0  \\n\\nOh\\n\\nIls vont t'coller par interêt, crois...  \n",
              "1  J'me suis marié au rap sans dire merci\\nLà j's...  \n",
              "2  \\nBlack Gogeta\\nBlack Gogeta\\nBlack Gogeta\\nBl...  \n",
              "3  \\n\\nNoir ou blanc, on évite d'aller trop finir...  \n",
              "4  \\n\\nJ'ai grandi dans les blocs tout pourris de...  \n",
              "5  \\n\\nHello, people, j'suis dans l'arène, ça fai...  \n",
              "6  \\nIls m'disaient : \"Baisse la tête et marche t...  \n",
              "7  \\nYah, yah, yah, yah\\nYah, yah, yah, yah\\nYah,...  \n",
              "8  \\nJ'fais ça tous les jours\\nEt puis normalemen...  \n",
              "9  \\n\\nNo-no-no-no-no-no-no\\nNo-no-no-no-no\\nNo-n...  "
            ],
            "text/html": [
              "\n",
              "  <div id=\"df-a8fcae23-f75d-4e56-acad-a91f77e8e185\" class=\"colab-df-container\">\n",
              "    <div>\n",
              "<style scoped>\n",
              "    .dataframe tbody tr th:only-of-type {\n",
              "        vertical-align: middle;\n",
              "    }\n",
              "\n",
              "    .dataframe tbody tr th {\n",
              "        vertical-align: top;\n",
              "    }\n",
              "\n",
              "    .dataframe thead th {\n",
              "        text-align: right;\n",
              "    }\n",
              "</style>\n",
              "<table border=\"1\" class=\"dataframe\">\n",
              "  <thead>\n",
              "    <tr style=\"text-align: right;\">\n",
              "      <th></th>\n",
              "      <th>Unnamed: 0</th>\n",
              "      <th>artist</th>\n",
              "      <th>title</th>\n",
              "      <th>year</th>\n",
              "      <th>lyrics_x</th>\n",
              "    </tr>\n",
              "  </thead>\n",
              "  <tbody>\n",
              "    <tr>\n",
              "      <th>0</th>\n",
              "      <td>0</td>\n",
              "      <td>100 Blaze</td>\n",
              "      <td>ASKIP</td>\n",
              "      <td>2022.0</td>\n",
              "      <td>\\n\\nOh\\n\\nIls vont t'coller par interêt, crois...</td>\n",
              "    </tr>\n",
              "    <tr>\n",
              "      <th>1</th>\n",
              "      <td>1</td>\n",
              "      <td>100 Blaze</td>\n",
              "      <td>Balec</td>\n",
              "      <td>2019.0</td>\n",
              "      <td>J'me suis marié au rap sans dire merci\\nLà j's...</td>\n",
              "    </tr>\n",
              "    <tr>\n",
              "      <th>2</th>\n",
              "      <td>2</td>\n",
              "      <td>100 Blaze</td>\n",
              "      <td>Black Gogeta</td>\n",
              "      <td>2018.0</td>\n",
              "      <td>\\nBlack Gogeta\\nBlack Gogeta\\nBlack Gogeta\\nBl...</td>\n",
              "    </tr>\n",
              "    <tr>\n",
              "      <th>3</th>\n",
              "      <td>3</td>\n",
              "      <td>100 Blaze</td>\n",
              "      <td>Black Or White</td>\n",
              "      <td>2022.0</td>\n",
              "      <td>\\n\\nNoir ou blanc, on évite d'aller trop finir...</td>\n",
              "    </tr>\n",
              "    <tr>\n",
              "      <th>4</th>\n",
              "      <td>4</td>\n",
              "      <td>100 Blaze</td>\n",
              "      <td>Blazedog</td>\n",
              "      <td>2022.0</td>\n",
              "      <td>\\n\\nJ'ai grandi dans les blocs tout pourris de...</td>\n",
              "    </tr>\n",
              "    <tr>\n",
              "      <th>5</th>\n",
              "      <td>5</td>\n",
              "      <td>100 Blaze</td>\n",
              "      <td>Blow</td>\n",
              "      <td>2022.0</td>\n",
              "      <td>\\n\\nHello, people, j'suis dans l'arène, ça fai...</td>\n",
              "    </tr>\n",
              "    <tr>\n",
              "      <th>6</th>\n",
              "      <td>6</td>\n",
              "      <td>100 Blaze</td>\n",
              "      <td>Boosk’Castellane</td>\n",
              "      <td>2018.0</td>\n",
              "      <td>\\nIls m'disaient : \"Baisse la tête et marche t...</td>\n",
              "    </tr>\n",
              "    <tr>\n",
              "      <th>7</th>\n",
              "      <td>7</td>\n",
              "      <td>100 Blaze</td>\n",
              "      <td>Brolik</td>\n",
              "      <td>2018.0</td>\n",
              "      <td>\\nYah, yah, yah, yah\\nYah, yah, yah, yah\\nYah,...</td>\n",
              "    </tr>\n",
              "    <tr>\n",
              "      <th>8</th>\n",
              "      <td>8</td>\n",
              "      <td>100 Blaze</td>\n",
              "      <td>Ce qu’il se passe dehors</td>\n",
              "      <td>2019.0</td>\n",
              "      <td>\\nJ'fais ça tous les jours\\nEt puis normalemen...</td>\n",
              "    </tr>\n",
              "    <tr>\n",
              "      <th>9</th>\n",
              "      <td>9</td>\n",
              "      <td>100 Blaze</td>\n",
              "      <td>Coco</td>\n",
              "      <td>2022.0</td>\n",
              "      <td>\\n\\nNo-no-no-no-no-no-no\\nNo-no-no-no-no\\nNo-n...</td>\n",
              "    </tr>\n",
              "  </tbody>\n",
              "</table>\n",
              "</div>\n",
              "    <div class=\"colab-df-buttons\">\n",
              "\n",
              "  <div class=\"colab-df-container\">\n",
              "    <button class=\"colab-df-convert\" onclick=\"convertToInteractive('df-a8fcae23-f75d-4e56-acad-a91f77e8e185')\"\n",
              "            title=\"Convert this dataframe to an interactive table.\"\n",
              "            style=\"display:none;\">\n",
              "\n",
              "  <svg xmlns=\"http://www.w3.org/2000/svg\" height=\"24px\" viewBox=\"0 -960 960 960\">\n",
              "    <path d=\"M120-120v-720h720v720H120Zm60-500h600v-160H180v160Zm220 220h160v-160H400v160Zm0 220h160v-160H400v160ZM180-400h160v-160H180v160Zm440 0h160v-160H620v160ZM180-180h160v-160H180v160Zm440 0h160v-160H620v160Z\"/>\n",
              "  </svg>\n",
              "    </button>\n",
              "\n",
              "  <style>\n",
              "    .colab-df-container {\n",
              "      display:flex;\n",
              "      gap: 12px;\n",
              "    }\n",
              "\n",
              "    .colab-df-convert {\n",
              "      background-color: #E8F0FE;\n",
              "      border: none;\n",
              "      border-radius: 50%;\n",
              "      cursor: pointer;\n",
              "      display: none;\n",
              "      fill: #1967D2;\n",
              "      height: 32px;\n",
              "      padding: 0 0 0 0;\n",
              "      width: 32px;\n",
              "    }\n",
              "\n",
              "    .colab-df-convert:hover {\n",
              "      background-color: #E2EBFA;\n",
              "      box-shadow: 0px 1px 2px rgba(60, 64, 67, 0.3), 0px 1px 3px 1px rgba(60, 64, 67, 0.15);\n",
              "      fill: #174EA6;\n",
              "    }\n",
              "\n",
              "    .colab-df-buttons div {\n",
              "      margin-bottom: 4px;\n",
              "    }\n",
              "\n",
              "    [theme=dark] .colab-df-convert {\n",
              "      background-color: #3B4455;\n",
              "      fill: #D2E3FC;\n",
              "    }\n",
              "\n",
              "    [theme=dark] .colab-df-convert:hover {\n",
              "      background-color: #434B5C;\n",
              "      box-shadow: 0px 1px 3px 1px rgba(0, 0, 0, 0.15);\n",
              "      filter: drop-shadow(0px 1px 2px rgba(0, 0, 0, 0.3));\n",
              "      fill: #FFFFFF;\n",
              "    }\n",
              "  </style>\n",
              "\n",
              "    <script>\n",
              "      const buttonEl =\n",
              "        document.querySelector('#df-a8fcae23-f75d-4e56-acad-a91f77e8e185 button.colab-df-convert');\n",
              "      buttonEl.style.display =\n",
              "        google.colab.kernel.accessAllowed ? 'block' : 'none';\n",
              "\n",
              "      async function convertToInteractive(key) {\n",
              "        const element = document.querySelector('#df-a8fcae23-f75d-4e56-acad-a91f77e8e185');\n",
              "        const dataTable =\n",
              "          await google.colab.kernel.invokeFunction('convertToInteractive',\n",
              "                                                    [key], {});\n",
              "        if (!dataTable) return;\n",
              "\n",
              "        const docLinkHtml = 'Like what you see? Visit the ' +\n",
              "          '<a target=\"_blank\" href=https://colab.research.google.com/notebooks/data_table.ipynb>data table notebook</a>'\n",
              "          + ' to learn more about interactive tables.';\n",
              "        element.innerHTML = '';\n",
              "        dataTable['output_type'] = 'display_data';\n",
              "        await google.colab.output.renderOutput(dataTable, element);\n",
              "        const docLink = document.createElement('div');\n",
              "        docLink.innerHTML = docLinkHtml;\n",
              "        element.appendChild(docLink);\n",
              "      }\n",
              "    </script>\n",
              "  </div>\n",
              "\n",
              "\n",
              "<div id=\"df-2f72e0f5-dd61-4bce-8c97-a4600a55c9bd\">\n",
              "  <button class=\"colab-df-quickchart\" onclick=\"quickchart('df-2f72e0f5-dd61-4bce-8c97-a4600a55c9bd')\"\n",
              "            title=\"Suggest charts\"\n",
              "            style=\"display:none;\">\n",
              "\n",
              "<svg xmlns=\"http://www.w3.org/2000/svg\" height=\"24px\"viewBox=\"0 0 24 24\"\n",
              "     width=\"24px\">\n",
              "    <g>\n",
              "        <path d=\"M19 3H5c-1.1 0-2 .9-2 2v14c0 1.1.9 2 2 2h14c1.1 0 2-.9 2-2V5c0-1.1-.9-2-2-2zM9 17H7v-7h2v7zm4 0h-2V7h2v10zm4 0h-2v-4h2v4z\"/>\n",
              "    </g>\n",
              "</svg>\n",
              "  </button>\n",
              "\n",
              "<style>\n",
              "  .colab-df-quickchart {\n",
              "      --bg-color: #E8F0FE;\n",
              "      --fill-color: #1967D2;\n",
              "      --hover-bg-color: #E2EBFA;\n",
              "      --hover-fill-color: #174EA6;\n",
              "      --disabled-fill-color: #AAA;\n",
              "      --disabled-bg-color: #DDD;\n",
              "  }\n",
              "\n",
              "  [theme=dark] .colab-df-quickchart {\n",
              "      --bg-color: #3B4455;\n",
              "      --fill-color: #D2E3FC;\n",
              "      --hover-bg-color: #434B5C;\n",
              "      --hover-fill-color: #FFFFFF;\n",
              "      --disabled-bg-color: #3B4455;\n",
              "      --disabled-fill-color: #666;\n",
              "  }\n",
              "\n",
              "  .colab-df-quickchart {\n",
              "    background-color: var(--bg-color);\n",
              "    border: none;\n",
              "    border-radius: 50%;\n",
              "    cursor: pointer;\n",
              "    display: none;\n",
              "    fill: var(--fill-color);\n",
              "    height: 32px;\n",
              "    padding: 0;\n",
              "    width: 32px;\n",
              "  }\n",
              "\n",
              "  .colab-df-quickchart:hover {\n",
              "    background-color: var(--hover-bg-color);\n",
              "    box-shadow: 0 1px 2px rgba(60, 64, 67, 0.3), 0 1px 3px 1px rgba(60, 64, 67, 0.15);\n",
              "    fill: var(--button-hover-fill-color);\n",
              "  }\n",
              "\n",
              "  .colab-df-quickchart-complete:disabled,\n",
              "  .colab-df-quickchart-complete:disabled:hover {\n",
              "    background-color: var(--disabled-bg-color);\n",
              "    fill: var(--disabled-fill-color);\n",
              "    box-shadow: none;\n",
              "  }\n",
              "\n",
              "  .colab-df-spinner {\n",
              "    border: 2px solid var(--fill-color);\n",
              "    border-color: transparent;\n",
              "    border-bottom-color: var(--fill-color);\n",
              "    animation:\n",
              "      spin 1s steps(1) infinite;\n",
              "  }\n",
              "\n",
              "  @keyframes spin {\n",
              "    0% {\n",
              "      border-color: transparent;\n",
              "      border-bottom-color: var(--fill-color);\n",
              "      border-left-color: var(--fill-color);\n",
              "    }\n",
              "    20% {\n",
              "      border-color: transparent;\n",
              "      border-left-color: var(--fill-color);\n",
              "      border-top-color: var(--fill-color);\n",
              "    }\n",
              "    30% {\n",
              "      border-color: transparent;\n",
              "      border-left-color: var(--fill-color);\n",
              "      border-top-color: var(--fill-color);\n",
              "      border-right-color: var(--fill-color);\n",
              "    }\n",
              "    40% {\n",
              "      border-color: transparent;\n",
              "      border-right-color: var(--fill-color);\n",
              "      border-top-color: var(--fill-color);\n",
              "    }\n",
              "    60% {\n",
              "      border-color: transparent;\n",
              "      border-right-color: var(--fill-color);\n",
              "    }\n",
              "    80% {\n",
              "      border-color: transparent;\n",
              "      border-right-color: var(--fill-color);\n",
              "      border-bottom-color: var(--fill-color);\n",
              "    }\n",
              "    90% {\n",
              "      border-color: transparent;\n",
              "      border-bottom-color: var(--fill-color);\n",
              "    }\n",
              "  }\n",
              "</style>\n",
              "\n",
              "  <script>\n",
              "    async function quickchart(key) {\n",
              "      const quickchartButtonEl =\n",
              "        document.querySelector('#' + key + ' button');\n",
              "      quickchartButtonEl.disabled = true;  // To prevent multiple clicks.\n",
              "      quickchartButtonEl.classList.add('colab-df-spinner');\n",
              "      try {\n",
              "        const charts = await google.colab.kernel.invokeFunction(\n",
              "            'suggestCharts', [key], {});\n",
              "      } catch (error) {\n",
              "        console.error('Error during call to suggestCharts:', error);\n",
              "      }\n",
              "      quickchartButtonEl.classList.remove('colab-df-spinner');\n",
              "      quickchartButtonEl.classList.add('colab-df-quickchart-complete');\n",
              "    }\n",
              "    (() => {\n",
              "      let quickchartButtonEl =\n",
              "        document.querySelector('#df-2f72e0f5-dd61-4bce-8c97-a4600a55c9bd button');\n",
              "      quickchartButtonEl.style.display =\n",
              "        google.colab.kernel.accessAllowed ? 'block' : 'none';\n",
              "    })();\n",
              "  </script>\n",
              "</div>\n",
              "\n",
              "    </div>\n",
              "  </div>\n"
            ],
            "application/vnd.google.colaboratory.intrinsic+json": {
              "type": "dataframe",
              "variable_name": "data",
              "summary": "{\n  \"name\": \"data\",\n  \"rows\": 50855,\n  \"fields\": [\n    {\n      \"column\": \"Unnamed: 0\",\n      \"properties\": {\n        \"dtype\": \"number\",\n        \"std\": 14932,\n        \"min\": 0,\n        \"max\": 51675,\n        \"num_unique_values\": 50855,\n        \"samples\": [\n          49023,\n          14319,\n          47783\n        ],\n        \"semantic_type\": \"\",\n        \"description\": \"\"\n      }\n    },\n    {\n      \"column\": \"artist\",\n      \"properties\": {\n        \"dtype\": \"category\",\n        \"num_unique_values\": 724,\n        \"samples\": [\n          \"Key Largo\",\n          \"PRIME\",\n          \"Rockin\\u2019 Squat\"\n        ],\n        \"semantic_type\": \"\",\n        \"description\": \"\"\n      }\n    },\n    {\n      \"column\": \"title\",\n      \"properties\": {\n        \"dtype\": \"string\",\n        \"num_unique_values\": 42719,\n        \"samples\": [\n          \"Freestyle \\u201cTalk to Me\\u201d\",\n          \"Fais ta maligne\",\n          \"Hola (Ft. Boef)\"\n        ],\n        \"semantic_type\": \"\",\n        \"description\": \"\"\n      }\n    },\n    {\n      \"column\": \"year\",\n      \"properties\": {\n        \"dtype\": \"number\",\n        \"std\": 6.496073465532412,\n        \"min\": 1969.0,\n        \"max\": 2024.0,\n        \"num_unique_values\": 39,\n        \"samples\": [\n          1993.0,\n          1994.0,\n          2015.0\n        ],\n        \"semantic_type\": \"\",\n        \"description\": \"\"\n      }\n    },\n    {\n      \"column\": \"lyrics_x\",\n      \"properties\": {\n        \"dtype\": \"string\",\n        \"num_unique_values\": 50855,\n        \"samples\": [\n          \"    c'est fatiguant de tout l'temps faire des introductions  ouais tout l'temps r\\u00e9p\\u00e9ter :  c'est v.a.l.d  v.al.d. l.d. ouais, c'est v.a.l.d     j'suis c\\u00e9lib' depuis des mois, aux yeux d'mes parents du moins  toujours plus heureux, dans l'train, j'ai tir\\u00e9 sur quelques joints  j'ai brill\\u00e9 sur quelques points, j'ai gliss\\u00e9 sur quelques autres  j'ai trahi mon amour juste au cas o\\u00f9 qu'elle me trompe  aucun roquet me carottera, c'est d\\u00e9j\\u00e0 not\\u00e9  mais gare au zet', t'auras l'air con \\u00e0 remettre en place des carreaux de pl\\u00e2tre  quand \\u00e7a aura bouff\\u00e9 ton veau cer et qu't'auras l'swag de saroumane  tu t'en voudras de t'\\u00eatre explos\\u00e9 l'cr\\u00e2ne \\u00e0 chaque occas'  ouais, c'est marrant, j'dis \\u00e7a mon poto roule  avec un ticket d'lotofoot sur une aire d'autoroute  encore plus dr\\u00f4le : ma moiti\\u00e9 m'insulte de tard b\\u00e2  pourtant, j'lui ai rien fait, promis jur\\u00e9, je ne lui parle pas       nan, nan, j'ai plus l'temps pour les pertes de temps, temps  j'ai r\\u00eav\\u00e9 d'un verre de sang, sans  aucun \\u00e9tat d'\\u00e2me, je pense que je tangue et je tangue  j'ai plus l'temps pour les pertes de temps, temps  j'ai r\\u00eav\\u00e9 d'un verre de sang, sans  aucun \\u00e9tat d'\\u00e2me, je pense que je tangue et je tangue  \",\n          \"\\n\\nEt maintenant j'chante dans mes putains d'refrains\\nJ'\\u00e9l\\u00e8ve la voix et j'pense \\u00e0 tous mes frangins\\n\\nChanger l'enfoir\\u00e9 devant son miroir est d'plus en plus difficile\\nQue faire ? J'suis sur l'plongeoir, y'a l'succ\\u00e8s dans la piscine\\nEst-ce que j'dois faire le grand pas ? Au risque de m'perdre, de plus aimer ma musique\\nL'ann\\u00e9e derni\\u00e8re j'ai vu un fr\\u00e8re faire une tentative de suicide\\nJ'ai besoin d'\\u00eatre adouci\\nEnferm\\u00e9 dans mon petit chez moi, j'ai quitt\\u00e9 la rue, les faux potes, pour les concerts\\nAvec mes frangins, on est sur la route, on a d\\u00e9chir\\u00e9 les posters qui tra\\u00eenaient dans nos chambres d'ados\\nOuais, j'prends d'la hauteur\\nMais j'ai peur de la chute, que \\u00e7a change mon visage\\nCar faire de la thune modifie l'atterrissage\\nMa m\\u00e8re m'a fait comprendre que j'\\u00e9tais un adulte\\nRien qu'elle se plaint, qu'elle me parle de factures\\nC'est dur, j'ai des liens, oui, sensibles aux fractures\\nJ'ai fait du mal, j'compte plus toutes mes bavures\\nEt toi, tu critiques comme si j'\\u00e9tais au-dessus mais t'es bais\\u00e9\\n\\u00c0 nu, j'repense \\u00e0 mes premiers textes, aux repas mang\\u00e9s dans la souffrance au foyer\\n\\nEt maintenant j'chante dans mes putains d'refrains\\nJ'\\u00e9l\\u00e8ve la voix et j'pense \\u00e0 tous mes frangins\\nJ'vois tout l'monde qui saute en concert\\nJ'vois Sanka qui fait sauter mes s\\u0153urs, qui fait sauter mes fr\\u00e8res\\nPort\\u00e9s par la foule, on slam, on s'casse la voix, on est des h\\u00e9ros\\nEt, le lendemain dans l'train, j'repense \\u00e0 chez moi, et tout repart \\u00e0 z\\u00e9ro\\n \\nEt si j'suis totalement dans l'erreur\\nQue j'ai pas l'choix, qu'rien s'pr\\u00e9sente \\u00e0 ma porte\\nDis-moi \\u00e0 quoi j'aurais l'c\\u0153ur\\nJ'suis un bad boy mais j'veux pas affronter l'\\u00e9chec du premier album\\nDonc j'balance ce rap qui cogne\\nTomber dans l'oubli ? Non, c'est archi mort\\nJ'donne le maximum, pas envie d'pourrir dans un taxiphone\\n\\\"Important de savoir d'o\\u00f9 l'on vient\\nMais surtout pourquoi on s'est barr\\u00e9s\\\"\\nLa devise de Sanka, j'ai mes potes comme boussoles\\nRien n'change m\\u00eame si les voyages vont nous s\\u00e9parer\\nBien s\\u00fbr qu'j'ai eu l'choix entre le d\\u00e9tail et les biz' honn\\u00eates\\nNique le kilo d'herbe\\nJ'pr\\u00e9f\\u00e8re \\u00e9crire mes r\\u00eaves, \\u00e9taler des feuilles blanches sur des kilom\\u00e8tres\\nMener ma vie honn\\u00eatement\\nUn seul mot d'ordre : rester vrai dans tous mes disques\\nFaut qu'ma famille puisse adh\\u00e9rer \\u00e0 c'que j'dis\\nLaisser dans mon ancien survet' mon putain d'tournevis\\nIgnorer tes commentaires, ta na\\u00efvet\\u00e9, ton m\\u00e9pris\\nChanger l'enfoir\\u00e9 devant son miroir, est-ce encore dans mes cordes ?\\nMoi, j'vis dans l'd\\u00e9sordre\\nJ'suis fait d'eau, de feu, de vent et de glace\\nChez nous, on devient un homme dans l'effort\\n\\nEt maintenant j'chante dans mes putains d'refrains\\nJ'\\u00e9l\\u00e8ve la voix et j'pense \\u00e0 tous mes frangins\\nJ'vois tout l'monde qui saute en concert\\nJ'vois Sanka qui fait sauter mes s\\u0153urs, qui fait sauter mes fr\\u00e8res\\nPort\\u00e9s par la foule, on slam, on s'casse la voix, on est des h\\u00e9ros\\nEt, le lendemain dans l'train, j'repense \\u00e0 chez moi, et tout repart \\u00e0 z\\u00e9ro\\nEt maintenant j'chante dans mes putains d'refrains\\nJ'\\u00e9l\\u00e8ve la voix et j'pense \\u00e0 tous mes frangins\\nJ'vois tout l'monde qui saute en concert\\nJ'vois Sanka qui fait sauter mes s\\u0153urs, qui fait sauter mes fr\\u00e8res\\nPort\\u00e9s par la foule, on slam, on s'casse la voix, on est des h\\u00e9ros\\nEt, le lendemain dans l'train, j'repense \\u00e0 chez moi, et tout repart \\u00e0 z\\u00e9ro10\",\n          \"\\nPrince\\nGod\\nEs-tu pr\\u00eat ?\\nComme tu m'as fait God\\nVa conqu\\u00e9rir les nations et terrasser les ennemis\\nMa grande gloire est sur toi\\nMaintenant ?\\nVa mon fils, va\\n\\nJe les cherche\\nJe les cherche\\nJe les cherche\\nIl me supplie de pas l'abattre\\nLui et sa bande de petits d\\u00e9mons, d\\u00e9mons\\nMais j'suis grand de taille, donc je les cherche\\nMais vous \\u00eates\\nIl me supplie de pas l'abattre\\nLui et sa bande de petits d\\u00e9mons, d\\u00e9mons\\nMais j'suis grand de taille, donc je les cherche\\nMais vous \\u00eates\\n\\nBonjour Prince, bonjour Majest\\u00e9\\nJe suis l'esprit de pauvret\\u00e9 que t'as toujours d\\u00e9test\\u00e9\\nCelui qui faisait que tu souffrais et que ta tour empestait\\nQui te suivait m\\u00eame sur ta marque de papier W.C\\nQui a fait que p\\u00e8re, m\\u00e8re devaient se lever t\\u00f4t\\nMais que \\u00e7a enlevait pas l\\u2019\\u00e9cho dans votre frigo Beko\\nNi les trous sur tes baskets et tes jeans Ecko\\nMais bon, s'il te pla\\u00eet ne me renvoie pas \\u00e0 z\\u00e9ro\\nHan, \\u00e9coute-moi petit postillon\\nJe t'envoie loin des miens et de nos cartes \\u00e9lectron\\nMais avant de te ver-sau tu vas ranger ce zoo\\nTu vas faire comme Damidot, refais la d\\u00e9co\\nPrince, moi c'est l'esprit de querelle\\nC'est moi qui a cr\\u00e9\\u00e9 les guerres et la premi\\u00e8re quenelle\\nC'est moi qui t'a cr\\u00e9\\u00e9 des ennemis d\\u00e8s la maternelle\\nAh oui, c'est moi qui a fait tomber les tours jumelles\\nBah oui, mais s'il te pla\\u00eet ne me frappe pas, my man\\nToi, \\u00e9coute pour commencer ne m'appelle pas my man\\nT'as fait en sorte que mes fr\\u00e8res s'battent \\u00e0 Draveil\\nDonc j'te chasse, c'est fini avec un fat Amen\\n \\nIl me supplie de pas l'abattre\\nLui et sa bande de petits d\\u00e9mons, d\\u00e9mons\\nMais j'suis grand de taille, donc je les cherche\\nMais vous \\u00eates\\nIl me supplie de pas l'abattre\\nLui et sa bande de petits d\\u00e9mons, d\\u00e9mons\\nMais j'suis grand de taille, donc je les cherche\\nMais vous \\u00eates (O\\u00f9 ? O\\u00f9 ? O\\u00f9 ? O\\u00f9 ?)\\nMais vous \\u00eates (O\\u00f9 ?)\\nMais vous \\u00eates (O\\u00f9 ? O\\u00f9 ? O\\u00f9 ? O\\u00f9 ?)\\nMais vous \\u00eates (O\\u00f9 ?)\\n\\nExcuse, c'est l'esprit d'impudicit\\u00e9\\nEnvoy\\u00e9 par Babylone, la ville prostitu\\u00e9e\\nC'est moi qui a mis de la nudit\\u00e9 dans tes s\\u00e9ries Disney\\nPour te former \\u00e0 d\\u00e9vierger dans tes s\\u00e9ries lyc\\u00e9e\\nC'est moi qui a fait qu'cette pauvre fille soit traumatis\\u00e9e\\nQuand le gar\\u00e7on lui dit : \\\"De toi, j'en ai rien \\u00e0 cirer\\\"\\nJ'ai fait aussi que ton pote Eddy se f\\u00e9minisait\\nBerk, pardonne-moi faut pas me p\\u00e9naliser\\nBerk, toi tu m'as vraiment rendu yomb'\\nTu m'as form\\u00e9 au sexe dans cet escalier bouillon\\nT'as vendu du r\\u00eave aux filles des environs\\n\\u00c0 qui tu apprends \\u00e0 faire de leur ut\\u00e9rus un cimeti\\u00e8re d'embryons\\nMaintenant tu ne peux plus ma housewife me combe t'sais\\nT'auras pas le niveau m\\u00eame dans le corps \\u00e0 Beyonc\\u00e9\\nOn dira \\u00e0 nos gosses qu'il faut se fiancer\\nEt qu'Adam est fait pour Eve et pas pour Yves t'sais\\n\\u00c9coute Prince c'est l'esprit de mort\\nC'est moi qui a envoy\\u00e9 ton grand-p\\u00e8re \\u00e0 cette mise \\u00e0 mort\\nJ'ai failli aussi avoir ton p\\u00e8re mais non\\nComme sur toi j'ai rat\\u00e9 mon action d\\u00e9cid\\u00e9ment\\nD\\u00e9cid\\u00e9ment quoi ? Ne sais-tu pas que t'aurais pu rien me faire\\nPapa m'avait pr\\u00e9vu cet emploi, pr\\u00e9vu cet emploi\\nCe moment historique\\nO\\u00f9 j'l\\u00e8ve mes deux doigts en l'air et crie \\\"Victory !\\\"\\nO\\u00f9 j'l\\u00e8ve mes deux doigts en l'air et crie \\\"Victory !\\\"\\nO\\u00f9 j'l\\u00e8ve mes deux doigts en l'air et crie \\\"Victory !\\\"\\nO\\u00f9 j'l\\u00e8ve mes deux doigts en l'air et crie \\\"Victory !\\\"\\nJ'l\\u00e8ve, j'l\\u00e8ve, j'l\\u00e8ve, j'l\\u00e8ve mes deux doigts en l'air et crie \\\"Victory !\\\"\\nIl me supplie de pas l'abattre\\nLui et sa bande de petits d\\u00e9mons, d\\u00e9mons\\nMais j'suis grand de taille, donc je les cherche\\nMais vous \\u00eates\\nIl me supplie de pas l'abattre\\nLui et sa bande de petits d\\u00e9mons, d\\u00e9mons\\nMais j'suis grand de taille, donc je les cherche\\nMais vous \\u00eates (O\\u00f9 ? O\\u00f9 ? O\\u00f9 ? O\\u00f9 ?)\\nMais vous \\u00eates (O\\u00f9 ?)\\nMais vous \\u00eates (O\\u00f9 ? O\\u00f9 ? O\\u00f9 ? O\\u00f9 ?)\\nMais vous \\u00eates (O\\u00f9 ?)1\"\n        ],\n        \"semantic_type\": \"\",\n        \"description\": \"\"\n      }\n    }\n  ]\n}"
            }
          },
          "metadata": {},
          "execution_count": 29
        }
      ]
    },
    {
      "cell_type": "code",
      "source": [
        "for col in data.columns:\n",
        "    print(col,': ',data[col].isnull().sum())"
      ],
      "metadata": {
        "id": "QcpTH-6FhstW",
        "colab": {
          "base_uri": "https://localhost:8080/"
        },
        "outputId": "3874826c-3bb2-4a74-86ae-80eb191cde42"
      },
      "execution_count": 30,
      "outputs": [
        {
          "output_type": "stream",
          "name": "stdout",
          "text": [
            "Unnamed: 0 :  0\n",
            "artist :  0\n",
            "title :  0\n",
            "year :  4723\n",
            "lyrics_x :  0\n"
          ]
        }
      ]
    },
    {
      "cell_type": "code",
      "source": [
        "data.loc[:,\"year\"]=data.loc[:,\"year\"].fillna(\"9999\")"
      ],
      "metadata": {
        "id": "hpU61fc6hzLi"
      },
      "execution_count": 31,
      "outputs": []
    },
    {
      "cell_type": "code",
      "source": [
        "data = data.drop(columns= \"Unnamed: 0\")\n",
        "data['year'] = data['year'].astype(int)"
      ],
      "metadata": {
        "id": "g3o48xGwgzRg"
      },
      "execution_count": 32,
      "outputs": []
    },
    {
      "cell_type": "code",
      "source": [
        "data.head(10)"
      ],
      "metadata": {
        "id": "u_h4VMJpg-E_",
        "colab": {
          "base_uri": "https://localhost:8080/",
          "height": 363
        },
        "outputId": "209e42d6-abb2-4d00-ef64-a77a0933f557"
      },
      "execution_count": 33,
      "outputs": [
        {
          "output_type": "execute_result",
          "data": {
            "text/plain": [
              "      artist                     title  year  \\\n",
              "0  100 Blaze                     ASKIP  2022   \n",
              "1  100 Blaze                     Balec  2019   \n",
              "2  100 Blaze              Black Gogeta  2018   \n",
              "3  100 Blaze            Black Or White  2022   \n",
              "4  100 Blaze                  Blazedog  2022   \n",
              "5  100 Blaze                      Blow  2022   \n",
              "6  100 Blaze          Boosk’Castellane  2018   \n",
              "7  100 Blaze                    Brolik  2018   \n",
              "8  100 Blaze  Ce qu’il se passe dehors  2019   \n",
              "9  100 Blaze                      Coco  2022   \n",
              "\n",
              "                                            lyrics_x  \n",
              "0  \\n\\nOh\\n\\nIls vont t'coller par interêt, crois...  \n",
              "1  J'me suis marié au rap sans dire merci\\nLà j's...  \n",
              "2  \\nBlack Gogeta\\nBlack Gogeta\\nBlack Gogeta\\nBl...  \n",
              "3  \\n\\nNoir ou blanc, on évite d'aller trop finir...  \n",
              "4  \\n\\nJ'ai grandi dans les blocs tout pourris de...  \n",
              "5  \\n\\nHello, people, j'suis dans l'arène, ça fai...  \n",
              "6  \\nIls m'disaient : \"Baisse la tête et marche t...  \n",
              "7  \\nYah, yah, yah, yah\\nYah, yah, yah, yah\\nYah,...  \n",
              "8  \\nJ'fais ça tous les jours\\nEt puis normalemen...  \n",
              "9  \\n\\nNo-no-no-no-no-no-no\\nNo-no-no-no-no\\nNo-n...  "
            ],
            "text/html": [
              "\n",
              "  <div id=\"df-cd57284c-e5ca-4ffb-b7e3-f7263770c89e\" class=\"colab-df-container\">\n",
              "    <div>\n",
              "<style scoped>\n",
              "    .dataframe tbody tr th:only-of-type {\n",
              "        vertical-align: middle;\n",
              "    }\n",
              "\n",
              "    .dataframe tbody tr th {\n",
              "        vertical-align: top;\n",
              "    }\n",
              "\n",
              "    .dataframe thead th {\n",
              "        text-align: right;\n",
              "    }\n",
              "</style>\n",
              "<table border=\"1\" class=\"dataframe\">\n",
              "  <thead>\n",
              "    <tr style=\"text-align: right;\">\n",
              "      <th></th>\n",
              "      <th>artist</th>\n",
              "      <th>title</th>\n",
              "      <th>year</th>\n",
              "      <th>lyrics_x</th>\n",
              "    </tr>\n",
              "  </thead>\n",
              "  <tbody>\n",
              "    <tr>\n",
              "      <th>0</th>\n",
              "      <td>100 Blaze</td>\n",
              "      <td>ASKIP</td>\n",
              "      <td>2022</td>\n",
              "      <td>\\n\\nOh\\n\\nIls vont t'coller par interêt, crois...</td>\n",
              "    </tr>\n",
              "    <tr>\n",
              "      <th>1</th>\n",
              "      <td>100 Blaze</td>\n",
              "      <td>Balec</td>\n",
              "      <td>2019</td>\n",
              "      <td>J'me suis marié au rap sans dire merci\\nLà j's...</td>\n",
              "    </tr>\n",
              "    <tr>\n",
              "      <th>2</th>\n",
              "      <td>100 Blaze</td>\n",
              "      <td>Black Gogeta</td>\n",
              "      <td>2018</td>\n",
              "      <td>\\nBlack Gogeta\\nBlack Gogeta\\nBlack Gogeta\\nBl...</td>\n",
              "    </tr>\n",
              "    <tr>\n",
              "      <th>3</th>\n",
              "      <td>100 Blaze</td>\n",
              "      <td>Black Or White</td>\n",
              "      <td>2022</td>\n",
              "      <td>\\n\\nNoir ou blanc, on évite d'aller trop finir...</td>\n",
              "    </tr>\n",
              "    <tr>\n",
              "      <th>4</th>\n",
              "      <td>100 Blaze</td>\n",
              "      <td>Blazedog</td>\n",
              "      <td>2022</td>\n",
              "      <td>\\n\\nJ'ai grandi dans les blocs tout pourris de...</td>\n",
              "    </tr>\n",
              "    <tr>\n",
              "      <th>5</th>\n",
              "      <td>100 Blaze</td>\n",
              "      <td>Blow</td>\n",
              "      <td>2022</td>\n",
              "      <td>\\n\\nHello, people, j'suis dans l'arène, ça fai...</td>\n",
              "    </tr>\n",
              "    <tr>\n",
              "      <th>6</th>\n",
              "      <td>100 Blaze</td>\n",
              "      <td>Boosk’Castellane</td>\n",
              "      <td>2018</td>\n",
              "      <td>\\nIls m'disaient : \"Baisse la tête et marche t...</td>\n",
              "    </tr>\n",
              "    <tr>\n",
              "      <th>7</th>\n",
              "      <td>100 Blaze</td>\n",
              "      <td>Brolik</td>\n",
              "      <td>2018</td>\n",
              "      <td>\\nYah, yah, yah, yah\\nYah, yah, yah, yah\\nYah,...</td>\n",
              "    </tr>\n",
              "    <tr>\n",
              "      <th>8</th>\n",
              "      <td>100 Blaze</td>\n",
              "      <td>Ce qu’il se passe dehors</td>\n",
              "      <td>2019</td>\n",
              "      <td>\\nJ'fais ça tous les jours\\nEt puis normalemen...</td>\n",
              "    </tr>\n",
              "    <tr>\n",
              "      <th>9</th>\n",
              "      <td>100 Blaze</td>\n",
              "      <td>Coco</td>\n",
              "      <td>2022</td>\n",
              "      <td>\\n\\nNo-no-no-no-no-no-no\\nNo-no-no-no-no\\nNo-n...</td>\n",
              "    </tr>\n",
              "  </tbody>\n",
              "</table>\n",
              "</div>\n",
              "    <div class=\"colab-df-buttons\">\n",
              "\n",
              "  <div class=\"colab-df-container\">\n",
              "    <button class=\"colab-df-convert\" onclick=\"convertToInteractive('df-cd57284c-e5ca-4ffb-b7e3-f7263770c89e')\"\n",
              "            title=\"Convert this dataframe to an interactive table.\"\n",
              "            style=\"display:none;\">\n",
              "\n",
              "  <svg xmlns=\"http://www.w3.org/2000/svg\" height=\"24px\" viewBox=\"0 -960 960 960\">\n",
              "    <path d=\"M120-120v-720h720v720H120Zm60-500h600v-160H180v160Zm220 220h160v-160H400v160Zm0 220h160v-160H400v160ZM180-400h160v-160H180v160Zm440 0h160v-160H620v160ZM180-180h160v-160H180v160Zm440 0h160v-160H620v160Z\"/>\n",
              "  </svg>\n",
              "    </button>\n",
              "\n",
              "  <style>\n",
              "    .colab-df-container {\n",
              "      display:flex;\n",
              "      gap: 12px;\n",
              "    }\n",
              "\n",
              "    .colab-df-convert {\n",
              "      background-color: #E8F0FE;\n",
              "      border: none;\n",
              "      border-radius: 50%;\n",
              "      cursor: pointer;\n",
              "      display: none;\n",
              "      fill: #1967D2;\n",
              "      height: 32px;\n",
              "      padding: 0 0 0 0;\n",
              "      width: 32px;\n",
              "    }\n",
              "\n",
              "    .colab-df-convert:hover {\n",
              "      background-color: #E2EBFA;\n",
              "      box-shadow: 0px 1px 2px rgba(60, 64, 67, 0.3), 0px 1px 3px 1px rgba(60, 64, 67, 0.15);\n",
              "      fill: #174EA6;\n",
              "    }\n",
              "\n",
              "    .colab-df-buttons div {\n",
              "      margin-bottom: 4px;\n",
              "    }\n",
              "\n",
              "    [theme=dark] .colab-df-convert {\n",
              "      background-color: #3B4455;\n",
              "      fill: #D2E3FC;\n",
              "    }\n",
              "\n",
              "    [theme=dark] .colab-df-convert:hover {\n",
              "      background-color: #434B5C;\n",
              "      box-shadow: 0px 1px 3px 1px rgba(0, 0, 0, 0.15);\n",
              "      filter: drop-shadow(0px 1px 2px rgba(0, 0, 0, 0.3));\n",
              "      fill: #FFFFFF;\n",
              "    }\n",
              "  </style>\n",
              "\n",
              "    <script>\n",
              "      const buttonEl =\n",
              "        document.querySelector('#df-cd57284c-e5ca-4ffb-b7e3-f7263770c89e button.colab-df-convert');\n",
              "      buttonEl.style.display =\n",
              "        google.colab.kernel.accessAllowed ? 'block' : 'none';\n",
              "\n",
              "      async function convertToInteractive(key) {\n",
              "        const element = document.querySelector('#df-cd57284c-e5ca-4ffb-b7e3-f7263770c89e');\n",
              "        const dataTable =\n",
              "          await google.colab.kernel.invokeFunction('convertToInteractive',\n",
              "                                                    [key], {});\n",
              "        if (!dataTable) return;\n",
              "\n",
              "        const docLinkHtml = 'Like what you see? Visit the ' +\n",
              "          '<a target=\"_blank\" href=https://colab.research.google.com/notebooks/data_table.ipynb>data table notebook</a>'\n",
              "          + ' to learn more about interactive tables.';\n",
              "        element.innerHTML = '';\n",
              "        dataTable['output_type'] = 'display_data';\n",
              "        await google.colab.output.renderOutput(dataTable, element);\n",
              "        const docLink = document.createElement('div');\n",
              "        docLink.innerHTML = docLinkHtml;\n",
              "        element.appendChild(docLink);\n",
              "      }\n",
              "    </script>\n",
              "  </div>\n",
              "\n",
              "\n",
              "<div id=\"df-7eb1b3e7-d612-4f1f-91ee-b3d36750cb63\">\n",
              "  <button class=\"colab-df-quickchart\" onclick=\"quickchart('df-7eb1b3e7-d612-4f1f-91ee-b3d36750cb63')\"\n",
              "            title=\"Suggest charts\"\n",
              "            style=\"display:none;\">\n",
              "\n",
              "<svg xmlns=\"http://www.w3.org/2000/svg\" height=\"24px\"viewBox=\"0 0 24 24\"\n",
              "     width=\"24px\">\n",
              "    <g>\n",
              "        <path d=\"M19 3H5c-1.1 0-2 .9-2 2v14c0 1.1.9 2 2 2h14c1.1 0 2-.9 2-2V5c0-1.1-.9-2-2-2zM9 17H7v-7h2v7zm4 0h-2V7h2v10zm4 0h-2v-4h2v4z\"/>\n",
              "    </g>\n",
              "</svg>\n",
              "  </button>\n",
              "\n",
              "<style>\n",
              "  .colab-df-quickchart {\n",
              "      --bg-color: #E8F0FE;\n",
              "      --fill-color: #1967D2;\n",
              "      --hover-bg-color: #E2EBFA;\n",
              "      --hover-fill-color: #174EA6;\n",
              "      --disabled-fill-color: #AAA;\n",
              "      --disabled-bg-color: #DDD;\n",
              "  }\n",
              "\n",
              "  [theme=dark] .colab-df-quickchart {\n",
              "      --bg-color: #3B4455;\n",
              "      --fill-color: #D2E3FC;\n",
              "      --hover-bg-color: #434B5C;\n",
              "      --hover-fill-color: #FFFFFF;\n",
              "      --disabled-bg-color: #3B4455;\n",
              "      --disabled-fill-color: #666;\n",
              "  }\n",
              "\n",
              "  .colab-df-quickchart {\n",
              "    background-color: var(--bg-color);\n",
              "    border: none;\n",
              "    border-radius: 50%;\n",
              "    cursor: pointer;\n",
              "    display: none;\n",
              "    fill: var(--fill-color);\n",
              "    height: 32px;\n",
              "    padding: 0;\n",
              "    width: 32px;\n",
              "  }\n",
              "\n",
              "  .colab-df-quickchart:hover {\n",
              "    background-color: var(--hover-bg-color);\n",
              "    box-shadow: 0 1px 2px rgba(60, 64, 67, 0.3), 0 1px 3px 1px rgba(60, 64, 67, 0.15);\n",
              "    fill: var(--button-hover-fill-color);\n",
              "  }\n",
              "\n",
              "  .colab-df-quickchart-complete:disabled,\n",
              "  .colab-df-quickchart-complete:disabled:hover {\n",
              "    background-color: var(--disabled-bg-color);\n",
              "    fill: var(--disabled-fill-color);\n",
              "    box-shadow: none;\n",
              "  }\n",
              "\n",
              "  .colab-df-spinner {\n",
              "    border: 2px solid var(--fill-color);\n",
              "    border-color: transparent;\n",
              "    border-bottom-color: var(--fill-color);\n",
              "    animation:\n",
              "      spin 1s steps(1) infinite;\n",
              "  }\n",
              "\n",
              "  @keyframes spin {\n",
              "    0% {\n",
              "      border-color: transparent;\n",
              "      border-bottom-color: var(--fill-color);\n",
              "      border-left-color: var(--fill-color);\n",
              "    }\n",
              "    20% {\n",
              "      border-color: transparent;\n",
              "      border-left-color: var(--fill-color);\n",
              "      border-top-color: var(--fill-color);\n",
              "    }\n",
              "    30% {\n",
              "      border-color: transparent;\n",
              "      border-left-color: var(--fill-color);\n",
              "      border-top-color: var(--fill-color);\n",
              "      border-right-color: var(--fill-color);\n",
              "    }\n",
              "    40% {\n",
              "      border-color: transparent;\n",
              "      border-right-color: var(--fill-color);\n",
              "      border-top-color: var(--fill-color);\n",
              "    }\n",
              "    60% {\n",
              "      border-color: transparent;\n",
              "      border-right-color: var(--fill-color);\n",
              "    }\n",
              "    80% {\n",
              "      border-color: transparent;\n",
              "      border-right-color: var(--fill-color);\n",
              "      border-bottom-color: var(--fill-color);\n",
              "    }\n",
              "    90% {\n",
              "      border-color: transparent;\n",
              "      border-bottom-color: var(--fill-color);\n",
              "    }\n",
              "  }\n",
              "</style>\n",
              "\n",
              "  <script>\n",
              "    async function quickchart(key) {\n",
              "      const quickchartButtonEl =\n",
              "        document.querySelector('#' + key + ' button');\n",
              "      quickchartButtonEl.disabled = true;  // To prevent multiple clicks.\n",
              "      quickchartButtonEl.classList.add('colab-df-spinner');\n",
              "      try {\n",
              "        const charts = await google.colab.kernel.invokeFunction(\n",
              "            'suggestCharts', [key], {});\n",
              "      } catch (error) {\n",
              "        console.error('Error during call to suggestCharts:', error);\n",
              "      }\n",
              "      quickchartButtonEl.classList.remove('colab-df-spinner');\n",
              "      quickchartButtonEl.classList.add('colab-df-quickchart-complete');\n",
              "    }\n",
              "    (() => {\n",
              "      let quickchartButtonEl =\n",
              "        document.querySelector('#df-7eb1b3e7-d612-4f1f-91ee-b3d36750cb63 button');\n",
              "      quickchartButtonEl.style.display =\n",
              "        google.colab.kernel.accessAllowed ? 'block' : 'none';\n",
              "    })();\n",
              "  </script>\n",
              "</div>\n",
              "\n",
              "    </div>\n",
              "  </div>\n"
            ],
            "application/vnd.google.colaboratory.intrinsic+json": {
              "type": "dataframe",
              "variable_name": "data",
              "summary": "{\n  \"name\": \"data\",\n  \"rows\": 50855,\n  \"fields\": [\n    {\n      \"column\": \"artist\",\n      \"properties\": {\n        \"dtype\": \"category\",\n        \"num_unique_values\": 724,\n        \"samples\": [\n          \"Key Largo\",\n          \"PRIME\",\n          \"Rockin\\u2019 Squat\"\n        ],\n        \"semantic_type\": \"\",\n        \"description\": \"\"\n      }\n    },\n    {\n      \"column\": \"title\",\n      \"properties\": {\n        \"dtype\": \"string\",\n        \"num_unique_values\": 42719,\n        \"samples\": [\n          \"Freestyle \\u201cTalk to Me\\u201d\",\n          \"Fais ta maligne\",\n          \"Hola (Ft. Boef)\"\n        ],\n        \"semantic_type\": \"\",\n        \"description\": \"\"\n      }\n    },\n    {\n      \"column\": \"year\",\n      \"properties\": {\n        \"dtype\": \"number\",\n        \"std\": 2317,\n        \"min\": 1969,\n        \"max\": 9999,\n        \"num_unique_values\": 40,\n        \"samples\": [\n          2001,\n          2006,\n          1998\n        ],\n        \"semantic_type\": \"\",\n        \"description\": \"\"\n      }\n    },\n    {\n      \"column\": \"lyrics_x\",\n      \"properties\": {\n        \"dtype\": \"string\",\n        \"num_unique_values\": 50855,\n        \"samples\": [\n          \"    c'est fatiguant de tout l'temps faire des introductions  ouais tout l'temps r\\u00e9p\\u00e9ter :  c'est v.a.l.d  v.al.d. l.d. ouais, c'est v.a.l.d     j'suis c\\u00e9lib' depuis des mois, aux yeux d'mes parents du moins  toujours plus heureux, dans l'train, j'ai tir\\u00e9 sur quelques joints  j'ai brill\\u00e9 sur quelques points, j'ai gliss\\u00e9 sur quelques autres  j'ai trahi mon amour juste au cas o\\u00f9 qu'elle me trompe  aucun roquet me carottera, c'est d\\u00e9j\\u00e0 not\\u00e9  mais gare au zet', t'auras l'air con \\u00e0 remettre en place des carreaux de pl\\u00e2tre  quand \\u00e7a aura bouff\\u00e9 ton veau cer et qu't'auras l'swag de saroumane  tu t'en voudras de t'\\u00eatre explos\\u00e9 l'cr\\u00e2ne \\u00e0 chaque occas'  ouais, c'est marrant, j'dis \\u00e7a mon poto roule  avec un ticket d'lotofoot sur une aire d'autoroute  encore plus dr\\u00f4le : ma moiti\\u00e9 m'insulte de tard b\\u00e2  pourtant, j'lui ai rien fait, promis jur\\u00e9, je ne lui parle pas       nan, nan, j'ai plus l'temps pour les pertes de temps, temps  j'ai r\\u00eav\\u00e9 d'un verre de sang, sans  aucun \\u00e9tat d'\\u00e2me, je pense que je tangue et je tangue  j'ai plus l'temps pour les pertes de temps, temps  j'ai r\\u00eav\\u00e9 d'un verre de sang, sans  aucun \\u00e9tat d'\\u00e2me, je pense que je tangue et je tangue  \",\n          \"\\n\\nEt maintenant j'chante dans mes putains d'refrains\\nJ'\\u00e9l\\u00e8ve la voix et j'pense \\u00e0 tous mes frangins\\n\\nChanger l'enfoir\\u00e9 devant son miroir est d'plus en plus difficile\\nQue faire ? J'suis sur l'plongeoir, y'a l'succ\\u00e8s dans la piscine\\nEst-ce que j'dois faire le grand pas ? Au risque de m'perdre, de plus aimer ma musique\\nL'ann\\u00e9e derni\\u00e8re j'ai vu un fr\\u00e8re faire une tentative de suicide\\nJ'ai besoin d'\\u00eatre adouci\\nEnferm\\u00e9 dans mon petit chez moi, j'ai quitt\\u00e9 la rue, les faux potes, pour les concerts\\nAvec mes frangins, on est sur la route, on a d\\u00e9chir\\u00e9 les posters qui tra\\u00eenaient dans nos chambres d'ados\\nOuais, j'prends d'la hauteur\\nMais j'ai peur de la chute, que \\u00e7a change mon visage\\nCar faire de la thune modifie l'atterrissage\\nMa m\\u00e8re m'a fait comprendre que j'\\u00e9tais un adulte\\nRien qu'elle se plaint, qu'elle me parle de factures\\nC'est dur, j'ai des liens, oui, sensibles aux fractures\\nJ'ai fait du mal, j'compte plus toutes mes bavures\\nEt toi, tu critiques comme si j'\\u00e9tais au-dessus mais t'es bais\\u00e9\\n\\u00c0 nu, j'repense \\u00e0 mes premiers textes, aux repas mang\\u00e9s dans la souffrance au foyer\\n\\nEt maintenant j'chante dans mes putains d'refrains\\nJ'\\u00e9l\\u00e8ve la voix et j'pense \\u00e0 tous mes frangins\\nJ'vois tout l'monde qui saute en concert\\nJ'vois Sanka qui fait sauter mes s\\u0153urs, qui fait sauter mes fr\\u00e8res\\nPort\\u00e9s par la foule, on slam, on s'casse la voix, on est des h\\u00e9ros\\nEt, le lendemain dans l'train, j'repense \\u00e0 chez moi, et tout repart \\u00e0 z\\u00e9ro\\n \\nEt si j'suis totalement dans l'erreur\\nQue j'ai pas l'choix, qu'rien s'pr\\u00e9sente \\u00e0 ma porte\\nDis-moi \\u00e0 quoi j'aurais l'c\\u0153ur\\nJ'suis un bad boy mais j'veux pas affronter l'\\u00e9chec du premier album\\nDonc j'balance ce rap qui cogne\\nTomber dans l'oubli ? Non, c'est archi mort\\nJ'donne le maximum, pas envie d'pourrir dans un taxiphone\\n\\\"Important de savoir d'o\\u00f9 l'on vient\\nMais surtout pourquoi on s'est barr\\u00e9s\\\"\\nLa devise de Sanka, j'ai mes potes comme boussoles\\nRien n'change m\\u00eame si les voyages vont nous s\\u00e9parer\\nBien s\\u00fbr qu'j'ai eu l'choix entre le d\\u00e9tail et les biz' honn\\u00eates\\nNique le kilo d'herbe\\nJ'pr\\u00e9f\\u00e8re \\u00e9crire mes r\\u00eaves, \\u00e9taler des feuilles blanches sur des kilom\\u00e8tres\\nMener ma vie honn\\u00eatement\\nUn seul mot d'ordre : rester vrai dans tous mes disques\\nFaut qu'ma famille puisse adh\\u00e9rer \\u00e0 c'que j'dis\\nLaisser dans mon ancien survet' mon putain d'tournevis\\nIgnorer tes commentaires, ta na\\u00efvet\\u00e9, ton m\\u00e9pris\\nChanger l'enfoir\\u00e9 devant son miroir, est-ce encore dans mes cordes ?\\nMoi, j'vis dans l'd\\u00e9sordre\\nJ'suis fait d'eau, de feu, de vent et de glace\\nChez nous, on devient un homme dans l'effort\\n\\nEt maintenant j'chante dans mes putains d'refrains\\nJ'\\u00e9l\\u00e8ve la voix et j'pense \\u00e0 tous mes frangins\\nJ'vois tout l'monde qui saute en concert\\nJ'vois Sanka qui fait sauter mes s\\u0153urs, qui fait sauter mes fr\\u00e8res\\nPort\\u00e9s par la foule, on slam, on s'casse la voix, on est des h\\u00e9ros\\nEt, le lendemain dans l'train, j'repense \\u00e0 chez moi, et tout repart \\u00e0 z\\u00e9ro\\nEt maintenant j'chante dans mes putains d'refrains\\nJ'\\u00e9l\\u00e8ve la voix et j'pense \\u00e0 tous mes frangins\\nJ'vois tout l'monde qui saute en concert\\nJ'vois Sanka qui fait sauter mes s\\u0153urs, qui fait sauter mes fr\\u00e8res\\nPort\\u00e9s par la foule, on slam, on s'casse la voix, on est des h\\u00e9ros\\nEt, le lendemain dans l'train, j'repense \\u00e0 chez moi, et tout repart \\u00e0 z\\u00e9ro10\",\n          \"\\nPrince\\nGod\\nEs-tu pr\\u00eat ?\\nComme tu m'as fait God\\nVa conqu\\u00e9rir les nations et terrasser les ennemis\\nMa grande gloire est sur toi\\nMaintenant ?\\nVa mon fils, va\\n\\nJe les cherche\\nJe les cherche\\nJe les cherche\\nIl me supplie de pas l'abattre\\nLui et sa bande de petits d\\u00e9mons, d\\u00e9mons\\nMais j'suis grand de taille, donc je les cherche\\nMais vous \\u00eates\\nIl me supplie de pas l'abattre\\nLui et sa bande de petits d\\u00e9mons, d\\u00e9mons\\nMais j'suis grand de taille, donc je les cherche\\nMais vous \\u00eates\\n\\nBonjour Prince, bonjour Majest\\u00e9\\nJe suis l'esprit de pauvret\\u00e9 que t'as toujours d\\u00e9test\\u00e9\\nCelui qui faisait que tu souffrais et que ta tour empestait\\nQui te suivait m\\u00eame sur ta marque de papier W.C\\nQui a fait que p\\u00e8re, m\\u00e8re devaient se lever t\\u00f4t\\nMais que \\u00e7a enlevait pas l\\u2019\\u00e9cho dans votre frigo Beko\\nNi les trous sur tes baskets et tes jeans Ecko\\nMais bon, s'il te pla\\u00eet ne me renvoie pas \\u00e0 z\\u00e9ro\\nHan, \\u00e9coute-moi petit postillon\\nJe t'envoie loin des miens et de nos cartes \\u00e9lectron\\nMais avant de te ver-sau tu vas ranger ce zoo\\nTu vas faire comme Damidot, refais la d\\u00e9co\\nPrince, moi c'est l'esprit de querelle\\nC'est moi qui a cr\\u00e9\\u00e9 les guerres et la premi\\u00e8re quenelle\\nC'est moi qui t'a cr\\u00e9\\u00e9 des ennemis d\\u00e8s la maternelle\\nAh oui, c'est moi qui a fait tomber les tours jumelles\\nBah oui, mais s'il te pla\\u00eet ne me frappe pas, my man\\nToi, \\u00e9coute pour commencer ne m'appelle pas my man\\nT'as fait en sorte que mes fr\\u00e8res s'battent \\u00e0 Draveil\\nDonc j'te chasse, c'est fini avec un fat Amen\\n \\nIl me supplie de pas l'abattre\\nLui et sa bande de petits d\\u00e9mons, d\\u00e9mons\\nMais j'suis grand de taille, donc je les cherche\\nMais vous \\u00eates\\nIl me supplie de pas l'abattre\\nLui et sa bande de petits d\\u00e9mons, d\\u00e9mons\\nMais j'suis grand de taille, donc je les cherche\\nMais vous \\u00eates (O\\u00f9 ? O\\u00f9 ? O\\u00f9 ? O\\u00f9 ?)\\nMais vous \\u00eates (O\\u00f9 ?)\\nMais vous \\u00eates (O\\u00f9 ? O\\u00f9 ? O\\u00f9 ? O\\u00f9 ?)\\nMais vous \\u00eates (O\\u00f9 ?)\\n\\nExcuse, c'est l'esprit d'impudicit\\u00e9\\nEnvoy\\u00e9 par Babylone, la ville prostitu\\u00e9e\\nC'est moi qui a mis de la nudit\\u00e9 dans tes s\\u00e9ries Disney\\nPour te former \\u00e0 d\\u00e9vierger dans tes s\\u00e9ries lyc\\u00e9e\\nC'est moi qui a fait qu'cette pauvre fille soit traumatis\\u00e9e\\nQuand le gar\\u00e7on lui dit : \\\"De toi, j'en ai rien \\u00e0 cirer\\\"\\nJ'ai fait aussi que ton pote Eddy se f\\u00e9minisait\\nBerk, pardonne-moi faut pas me p\\u00e9naliser\\nBerk, toi tu m'as vraiment rendu yomb'\\nTu m'as form\\u00e9 au sexe dans cet escalier bouillon\\nT'as vendu du r\\u00eave aux filles des environs\\n\\u00c0 qui tu apprends \\u00e0 faire de leur ut\\u00e9rus un cimeti\\u00e8re d'embryons\\nMaintenant tu ne peux plus ma housewife me combe t'sais\\nT'auras pas le niveau m\\u00eame dans le corps \\u00e0 Beyonc\\u00e9\\nOn dira \\u00e0 nos gosses qu'il faut se fiancer\\nEt qu'Adam est fait pour Eve et pas pour Yves t'sais\\n\\u00c9coute Prince c'est l'esprit de mort\\nC'est moi qui a envoy\\u00e9 ton grand-p\\u00e8re \\u00e0 cette mise \\u00e0 mort\\nJ'ai failli aussi avoir ton p\\u00e8re mais non\\nComme sur toi j'ai rat\\u00e9 mon action d\\u00e9cid\\u00e9ment\\nD\\u00e9cid\\u00e9ment quoi ? Ne sais-tu pas que t'aurais pu rien me faire\\nPapa m'avait pr\\u00e9vu cet emploi, pr\\u00e9vu cet emploi\\nCe moment historique\\nO\\u00f9 j'l\\u00e8ve mes deux doigts en l'air et crie \\\"Victory !\\\"\\nO\\u00f9 j'l\\u00e8ve mes deux doigts en l'air et crie \\\"Victory !\\\"\\nO\\u00f9 j'l\\u00e8ve mes deux doigts en l'air et crie \\\"Victory !\\\"\\nO\\u00f9 j'l\\u00e8ve mes deux doigts en l'air et crie \\\"Victory !\\\"\\nJ'l\\u00e8ve, j'l\\u00e8ve, j'l\\u00e8ve, j'l\\u00e8ve mes deux doigts en l'air et crie \\\"Victory !\\\"\\nIl me supplie de pas l'abattre\\nLui et sa bande de petits d\\u00e9mons, d\\u00e9mons\\nMais j'suis grand de taille, donc je les cherche\\nMais vous \\u00eates\\nIl me supplie de pas l'abattre\\nLui et sa bande de petits d\\u00e9mons, d\\u00e9mons\\nMais j'suis grand de taille, donc je les cherche\\nMais vous \\u00eates (O\\u00f9 ? O\\u00f9 ? O\\u00f9 ? O\\u00f9 ?)\\nMais vous \\u00eates (O\\u00f9 ?)\\nMais vous \\u00eates (O\\u00f9 ? O\\u00f9 ? O\\u00f9 ? O\\u00f9 ?)\\nMais vous \\u00eates (O\\u00f9 ?)1\"\n        ],\n        \"semantic_type\": \"\",\n        \"description\": \"\"\n      }\n    }\n  ]\n}"
            }
          },
          "metadata": {},
          "execution_count": 33
        }
      ]
    },
    {
      "cell_type": "code",
      "source": [
        "data.info()"
      ],
      "metadata": {
        "id": "RQaryShzgm-x",
        "colab": {
          "base_uri": "https://localhost:8080/"
        },
        "outputId": "f1c424db-fec8-44ed-e45e-18847b991ebd"
      },
      "execution_count": 34,
      "outputs": [
        {
          "output_type": "stream",
          "name": "stdout",
          "text": [
            "<class 'pandas.core.frame.DataFrame'>\n",
            "RangeIndex: 50855 entries, 0 to 50854\n",
            "Data columns (total 4 columns):\n",
            " #   Column    Non-Null Count  Dtype \n",
            "---  ------    --------------  ----- \n",
            " 0   artist    50855 non-null  object\n",
            " 1   title     50855 non-null  object\n",
            " 2   year      50855 non-null  int64 \n",
            " 3   lyrics_x  50855 non-null  object\n",
            "dtypes: int64(1), object(3)\n",
            "memory usage: 1.6+ MB\n"
          ]
        }
      ]
    },
    {
      "cell_type": "code",
      "source": [
        "data.shape"
      ],
      "metadata": {
        "id": "CLPGH21Hgnzk",
        "colab": {
          "base_uri": "https://localhost:8080/"
        },
        "outputId": "e8ee8694-88eb-4efb-d09a-41ae73e98f38"
      },
      "execution_count": 35,
      "outputs": [
        {
          "output_type": "execute_result",
          "data": {
            "text/plain": [
              "(50855, 4)"
            ]
          },
          "metadata": {},
          "execution_count": 35
        }
      ]
    },
    {
      "cell_type": "code",
      "source": [
        "data.describe()"
      ],
      "metadata": {
        "id": "QE8_sO8egodo",
        "colab": {
          "base_uri": "https://localhost:8080/",
          "height": 300
        },
        "outputId": "faf0907b-f291-4d3e-a69d-fe50622faa5c"
      },
      "execution_count": 36,
      "outputs": [
        {
          "output_type": "execute_result",
          "data": {
            "text/plain": [
              "               year\n",
              "count  50855.000000\n",
              "mean    2756.576580\n",
              "std     2317.381634\n",
              "min     1969.000000\n",
              "25%     2013.000000\n",
              "50%     2018.000000\n",
              "75%     2021.000000\n",
              "max     9999.000000"
            ],
            "text/html": [
              "\n",
              "  <div id=\"df-b26e806d-4231-4715-8db1-41e8a11e96d7\" class=\"colab-df-container\">\n",
              "    <div>\n",
              "<style scoped>\n",
              "    .dataframe tbody tr th:only-of-type {\n",
              "        vertical-align: middle;\n",
              "    }\n",
              "\n",
              "    .dataframe tbody tr th {\n",
              "        vertical-align: top;\n",
              "    }\n",
              "\n",
              "    .dataframe thead th {\n",
              "        text-align: right;\n",
              "    }\n",
              "</style>\n",
              "<table border=\"1\" class=\"dataframe\">\n",
              "  <thead>\n",
              "    <tr style=\"text-align: right;\">\n",
              "      <th></th>\n",
              "      <th>year</th>\n",
              "    </tr>\n",
              "  </thead>\n",
              "  <tbody>\n",
              "    <tr>\n",
              "      <th>count</th>\n",
              "      <td>50855.000000</td>\n",
              "    </tr>\n",
              "    <tr>\n",
              "      <th>mean</th>\n",
              "      <td>2756.576580</td>\n",
              "    </tr>\n",
              "    <tr>\n",
              "      <th>std</th>\n",
              "      <td>2317.381634</td>\n",
              "    </tr>\n",
              "    <tr>\n",
              "      <th>min</th>\n",
              "      <td>1969.000000</td>\n",
              "    </tr>\n",
              "    <tr>\n",
              "      <th>25%</th>\n",
              "      <td>2013.000000</td>\n",
              "    </tr>\n",
              "    <tr>\n",
              "      <th>50%</th>\n",
              "      <td>2018.000000</td>\n",
              "    </tr>\n",
              "    <tr>\n",
              "      <th>75%</th>\n",
              "      <td>2021.000000</td>\n",
              "    </tr>\n",
              "    <tr>\n",
              "      <th>max</th>\n",
              "      <td>9999.000000</td>\n",
              "    </tr>\n",
              "  </tbody>\n",
              "</table>\n",
              "</div>\n",
              "    <div class=\"colab-df-buttons\">\n",
              "\n",
              "  <div class=\"colab-df-container\">\n",
              "    <button class=\"colab-df-convert\" onclick=\"convertToInteractive('df-b26e806d-4231-4715-8db1-41e8a11e96d7')\"\n",
              "            title=\"Convert this dataframe to an interactive table.\"\n",
              "            style=\"display:none;\">\n",
              "\n",
              "  <svg xmlns=\"http://www.w3.org/2000/svg\" height=\"24px\" viewBox=\"0 -960 960 960\">\n",
              "    <path d=\"M120-120v-720h720v720H120Zm60-500h600v-160H180v160Zm220 220h160v-160H400v160Zm0 220h160v-160H400v160ZM180-400h160v-160H180v160Zm440 0h160v-160H620v160ZM180-180h160v-160H180v160Zm440 0h160v-160H620v160Z\"/>\n",
              "  </svg>\n",
              "    </button>\n",
              "\n",
              "  <style>\n",
              "    .colab-df-container {\n",
              "      display:flex;\n",
              "      gap: 12px;\n",
              "    }\n",
              "\n",
              "    .colab-df-convert {\n",
              "      background-color: #E8F0FE;\n",
              "      border: none;\n",
              "      border-radius: 50%;\n",
              "      cursor: pointer;\n",
              "      display: none;\n",
              "      fill: #1967D2;\n",
              "      height: 32px;\n",
              "      padding: 0 0 0 0;\n",
              "      width: 32px;\n",
              "    }\n",
              "\n",
              "    .colab-df-convert:hover {\n",
              "      background-color: #E2EBFA;\n",
              "      box-shadow: 0px 1px 2px rgba(60, 64, 67, 0.3), 0px 1px 3px 1px rgba(60, 64, 67, 0.15);\n",
              "      fill: #174EA6;\n",
              "    }\n",
              "\n",
              "    .colab-df-buttons div {\n",
              "      margin-bottom: 4px;\n",
              "    }\n",
              "\n",
              "    [theme=dark] .colab-df-convert {\n",
              "      background-color: #3B4455;\n",
              "      fill: #D2E3FC;\n",
              "    }\n",
              "\n",
              "    [theme=dark] .colab-df-convert:hover {\n",
              "      background-color: #434B5C;\n",
              "      box-shadow: 0px 1px 3px 1px rgba(0, 0, 0, 0.15);\n",
              "      filter: drop-shadow(0px 1px 2px rgba(0, 0, 0, 0.3));\n",
              "      fill: #FFFFFF;\n",
              "    }\n",
              "  </style>\n",
              "\n",
              "    <script>\n",
              "      const buttonEl =\n",
              "        document.querySelector('#df-b26e806d-4231-4715-8db1-41e8a11e96d7 button.colab-df-convert');\n",
              "      buttonEl.style.display =\n",
              "        google.colab.kernel.accessAllowed ? 'block' : 'none';\n",
              "\n",
              "      async function convertToInteractive(key) {\n",
              "        const element = document.querySelector('#df-b26e806d-4231-4715-8db1-41e8a11e96d7');\n",
              "        const dataTable =\n",
              "          await google.colab.kernel.invokeFunction('convertToInteractive',\n",
              "                                                    [key], {});\n",
              "        if (!dataTable) return;\n",
              "\n",
              "        const docLinkHtml = 'Like what you see? Visit the ' +\n",
              "          '<a target=\"_blank\" href=https://colab.research.google.com/notebooks/data_table.ipynb>data table notebook</a>'\n",
              "          + ' to learn more about interactive tables.';\n",
              "        element.innerHTML = '';\n",
              "        dataTable['output_type'] = 'display_data';\n",
              "        await google.colab.output.renderOutput(dataTable, element);\n",
              "        const docLink = document.createElement('div');\n",
              "        docLink.innerHTML = docLinkHtml;\n",
              "        element.appendChild(docLink);\n",
              "      }\n",
              "    </script>\n",
              "  </div>\n",
              "\n",
              "\n",
              "<div id=\"df-122bb1bd-fe24-4f4a-93d3-662f52f708f2\">\n",
              "  <button class=\"colab-df-quickchart\" onclick=\"quickchart('df-122bb1bd-fe24-4f4a-93d3-662f52f708f2')\"\n",
              "            title=\"Suggest charts\"\n",
              "            style=\"display:none;\">\n",
              "\n",
              "<svg xmlns=\"http://www.w3.org/2000/svg\" height=\"24px\"viewBox=\"0 0 24 24\"\n",
              "     width=\"24px\">\n",
              "    <g>\n",
              "        <path d=\"M19 3H5c-1.1 0-2 .9-2 2v14c0 1.1.9 2 2 2h14c1.1 0 2-.9 2-2V5c0-1.1-.9-2-2-2zM9 17H7v-7h2v7zm4 0h-2V7h2v10zm4 0h-2v-4h2v4z\"/>\n",
              "    </g>\n",
              "</svg>\n",
              "  </button>\n",
              "\n",
              "<style>\n",
              "  .colab-df-quickchart {\n",
              "      --bg-color: #E8F0FE;\n",
              "      --fill-color: #1967D2;\n",
              "      --hover-bg-color: #E2EBFA;\n",
              "      --hover-fill-color: #174EA6;\n",
              "      --disabled-fill-color: #AAA;\n",
              "      --disabled-bg-color: #DDD;\n",
              "  }\n",
              "\n",
              "  [theme=dark] .colab-df-quickchart {\n",
              "      --bg-color: #3B4455;\n",
              "      --fill-color: #D2E3FC;\n",
              "      --hover-bg-color: #434B5C;\n",
              "      --hover-fill-color: #FFFFFF;\n",
              "      --disabled-bg-color: #3B4455;\n",
              "      --disabled-fill-color: #666;\n",
              "  }\n",
              "\n",
              "  .colab-df-quickchart {\n",
              "    background-color: var(--bg-color);\n",
              "    border: none;\n",
              "    border-radius: 50%;\n",
              "    cursor: pointer;\n",
              "    display: none;\n",
              "    fill: var(--fill-color);\n",
              "    height: 32px;\n",
              "    padding: 0;\n",
              "    width: 32px;\n",
              "  }\n",
              "\n",
              "  .colab-df-quickchart:hover {\n",
              "    background-color: var(--hover-bg-color);\n",
              "    box-shadow: 0 1px 2px rgba(60, 64, 67, 0.3), 0 1px 3px 1px rgba(60, 64, 67, 0.15);\n",
              "    fill: var(--button-hover-fill-color);\n",
              "  }\n",
              "\n",
              "  .colab-df-quickchart-complete:disabled,\n",
              "  .colab-df-quickchart-complete:disabled:hover {\n",
              "    background-color: var(--disabled-bg-color);\n",
              "    fill: var(--disabled-fill-color);\n",
              "    box-shadow: none;\n",
              "  }\n",
              "\n",
              "  .colab-df-spinner {\n",
              "    border: 2px solid var(--fill-color);\n",
              "    border-color: transparent;\n",
              "    border-bottom-color: var(--fill-color);\n",
              "    animation:\n",
              "      spin 1s steps(1) infinite;\n",
              "  }\n",
              "\n",
              "  @keyframes spin {\n",
              "    0% {\n",
              "      border-color: transparent;\n",
              "      border-bottom-color: var(--fill-color);\n",
              "      border-left-color: var(--fill-color);\n",
              "    }\n",
              "    20% {\n",
              "      border-color: transparent;\n",
              "      border-left-color: var(--fill-color);\n",
              "      border-top-color: var(--fill-color);\n",
              "    }\n",
              "    30% {\n",
              "      border-color: transparent;\n",
              "      border-left-color: var(--fill-color);\n",
              "      border-top-color: var(--fill-color);\n",
              "      border-right-color: var(--fill-color);\n",
              "    }\n",
              "    40% {\n",
              "      border-color: transparent;\n",
              "      border-right-color: var(--fill-color);\n",
              "      border-top-color: var(--fill-color);\n",
              "    }\n",
              "    60% {\n",
              "      border-color: transparent;\n",
              "      border-right-color: var(--fill-color);\n",
              "    }\n",
              "    80% {\n",
              "      border-color: transparent;\n",
              "      border-right-color: var(--fill-color);\n",
              "      border-bottom-color: var(--fill-color);\n",
              "    }\n",
              "    90% {\n",
              "      border-color: transparent;\n",
              "      border-bottom-color: var(--fill-color);\n",
              "    }\n",
              "  }\n",
              "</style>\n",
              "\n",
              "  <script>\n",
              "    async function quickchart(key) {\n",
              "      const quickchartButtonEl =\n",
              "        document.querySelector('#' + key + ' button');\n",
              "      quickchartButtonEl.disabled = true;  // To prevent multiple clicks.\n",
              "      quickchartButtonEl.classList.add('colab-df-spinner');\n",
              "      try {\n",
              "        const charts = await google.colab.kernel.invokeFunction(\n",
              "            'suggestCharts', [key], {});\n",
              "      } catch (error) {\n",
              "        console.error('Error during call to suggestCharts:', error);\n",
              "      }\n",
              "      quickchartButtonEl.classList.remove('colab-df-spinner');\n",
              "      quickchartButtonEl.classList.add('colab-df-quickchart-complete');\n",
              "    }\n",
              "    (() => {\n",
              "      let quickchartButtonEl =\n",
              "        document.querySelector('#df-122bb1bd-fe24-4f4a-93d3-662f52f708f2 button');\n",
              "      quickchartButtonEl.style.display =\n",
              "        google.colab.kernel.accessAllowed ? 'block' : 'none';\n",
              "    })();\n",
              "  </script>\n",
              "</div>\n",
              "\n",
              "    </div>\n",
              "  </div>\n"
            ],
            "application/vnd.google.colaboratory.intrinsic+json": {
              "type": "dataframe",
              "summary": "{\n  \"name\": \"data\",\n  \"rows\": 8,\n  \"fields\": [\n    {\n      \"column\": \"year\",\n      \"properties\": {\n        \"dtype\": \"number\",\n        \"std\": 17036.5566627433,\n        \"min\": 1969.0,\n        \"max\": 50855.0,\n        \"num_unique_values\": 8,\n        \"samples\": [\n          2756.5765804738962,\n          2018.0,\n          50855.0\n        ],\n        \"semantic_type\": \"\",\n        \"description\": \"\"\n      }\n    }\n  ]\n}"
            }
          },
          "metadata": {},
          "execution_count": 36
        }
      ]
    },
    {
      "cell_type": "markdown",
      "source": [
        "## \"tokenizer\" function to isolate words"
      ],
      "metadata": {
        "id": "xM-DNDNzvK0X"
      }
    },
    {
      "cell_type": "code",
      "source": [
        "def tokenizer(texte):\n",
        "  spl = texte.lower().split(\" \")\n",
        "  i=0\n",
        "  res = []\n",
        "  for e in spl:\n",
        "    for j in [',','-',':','!','?','.','...','’','(',')', '\\n']:\n",
        "      e = e.replace(j, \"\")\n",
        "      spl[i] = e\n",
        "    i = i+1\n",
        "  for m in spl:\n",
        "    if m != '':\n",
        "      res.append(m)\n",
        "  return res"
      ],
      "metadata": {
        "id": "Lg99aM5yf3b6"
      },
      "execution_count": 37,
      "outputs": []
    },
    {
      "cell_type": "markdown",
      "source": [
        "## Graphs around the number of words used by each artists"
      ],
      "metadata": {
        "id": "Ckp938cRvR2e"
      }
    },
    {
      "cell_type": "code",
      "source": [
        "data[\"nb_mots\"] = data[\"lyrics_x\"].apply(tokenizer).apply(len)\n",
        "rap_lyrics_gb = data.groupby([\"artist\"])[[\"nb_mots\"]].mean()\n",
        "rap_lyrics_gb"
      ],
      "metadata": {
        "id": "AF-dm2esgBks"
      },
      "execution_count": null,
      "outputs": []
    },
    {
      "cell_type": "code",
      "source": [
        "plot = rap_lyrics_gb.reset_index().sort_values(\"nb_mots\")\n",
        "plot_top_20 = plot.iloc[-20:]\n",
        "plot_bottom_20 = plot.iloc[:20]"
      ],
      "metadata": {
        "id": "AB9c7GK1iIT9"
      },
      "execution_count": null,
      "outputs": []
    },
    {
      "cell_type": "code",
      "source": [
        "sns.barplot(data=plot_bottom_20, x=\"artist\", y=\"nb_mots\", color = \"#fdfd96\")\n",
        "\n",
        "plt.xticks(rotation=85)"
      ],
      "metadata": {
        "id": "eEjALfjcjvIh"
      },
      "execution_count": null,
      "outputs": []
    },
    {
      "cell_type": "code",
      "source": [
        "sns.barplot(data=plot_top_20, x=\"artist\", y=\"nb_mots\", color = \"#fdfd96\")\n",
        "\n",
        "plt.xticks(rotation=85)"
      ],
      "metadata": {
        "id": "eF0e7sqIjwAP"
      },
      "execution_count": null,
      "outputs": []
    },
    {
      "cell_type": "markdown",
      "source": [
        "## Graphs of number of differents words and different/total ratio for each artist"
      ],
      "metadata": {
        "id": "LWUr0MaRvkSc"
      }
    },
    {
      "cell_type": "code",
      "source": [
        "rap = data[[\"artist\", \"lyrics_x\"]]\n",
        "rap_concat = rap.groupby(['artist'])['lyrics_x'].apply(' '.join).reset_index()\n",
        "\n",
        "\n",
        "rap_concat[\"nb_mots_tot\"] = rap_concat[\"lyrics_x\"].apply(tokenizer).apply(len)\n",
        "rap_concat[\"nb_mots_diff\"] = rap_concat[\"lyrics_x\"].apply(tokenizer).apply(set).apply(list).apply(len)\n",
        "\n",
        "rap_concat = rap_concat.sort_values(\"nb_mots_diff\")"
      ],
      "metadata": {
        "id": "86wkDmsajyCT"
      },
      "execution_count": null,
      "outputs": []
    },
    {
      "cell_type": "code",
      "source": [
        "sns.barplot(data=rap_concat[-20:], x=\"artist\", y=\"nb_mots_diff\", color = \"#fdfd96\")\n",
        "\n",
        "plt.xticks(rotation=85)"
      ],
      "metadata": {
        "id": "QsKYxvK9k2Qp"
      },
      "execution_count": null,
      "outputs": []
    },
    {
      "cell_type": "code",
      "source": [
        "rap_concat[\"ratio\"] = rap_concat[\"nb_mots_diff\"]/rap_concat[\"nb_mots_tot\"]\n",
        "rap_concat = rap_concat.sort_values(\"ratio\")\n",
        "\n",
        "sns.barplot(data=rap_concat[-20:], x=\"artist\", y=\"ratio\", color = \"#fdfd96\")\n",
        "plt.xticks(rotation=85)"
      ],
      "metadata": {
        "id": "ZPDAXZT-ldOv"
      },
      "execution_count": null,
      "outputs": []
    },
    {
      "cell_type": "markdown",
      "source": [
        "## Most frequent words for a particular artist"
      ],
      "metadata": {
        "id": "qZqls-0wv0YZ"
      }
    },
    {
      "cell_type": "code",
      "source": [
        "from collections import Counter\n",
        "booba = data[[\"artist\", \"lyrics_x\"]]\n",
        "booba = booba.groupby(['artist'])['lyrics_x'].apply(' '.join).reset_index()\n",
        "\n",
        "booba = booba[booba[\"artist\"] == \"Booba\"]\n",
        "\n",
        "lyrics_booba = booba[\"lyrics_x\"].apply(tokenizer)\n",
        "\n",
        "lyrics_booba = list(lyrics_booba)\n",
        "lyrics_booba = lyrics_booba[0]\n",
        "\n",
        "Counter(lyrics_booba).most_common(20)"
      ],
      "metadata": {
        "id": "AZ8qq8Falzxv"
      },
      "execution_count": null,
      "outputs": []
    },
    {
      "cell_type": "code",
      "source": [
        "premiers_mots = list(Counter(lyrics_booba).most_common(20))\n",
        "\n",
        "premiers_mots = [i[0] for i in premiers_mots]\n",
        "\n",
        "premiers_mots"
      ],
      "metadata": {
        "id": "sidObmjxmZSa"
      },
      "execution_count": null,
      "outputs": []
    },
    {
      "cell_type": "code",
      "source": [
        "import nltk\n",
        "nltk.download('stopwords')"
      ],
      "metadata": {
        "id": "bubHZEFemlik"
      },
      "execution_count": null,
      "outputs": []
    },
    {
      "cell_type": "code",
      "source": [
        "from nltk.corpus import *\n",
        "sw = stopwords.words('french')\n",
        "sw2 = [w for w in open(\"/content/drive/MyDrive/datas/stopword.txt\",encoding='utf-8').read().split(\",\")]\n",
        "sw = sw+sw2\n",
        "sw = sw\n",
        "\n",
        "for i in range(len(lyrics_booba)):\n",
        "  if lyrics_booba[i] in sw:\n",
        "    lyrics_booba[i] = \"\"\n",
        "  if len(lyrics_booba[i]) <4:\n",
        "    lyrics_booba[i] = \"\"\n",
        "  if lyrics_booba[i] in premiers_mots:\n",
        "    lyrics_booba[i] = \"\"\n",
        "\n",
        "l_booba = []\n",
        "\n",
        "for e in lyrics_booba:\n",
        "  if e != '':\n",
        "    l_booba.append(e)"
      ],
      "metadata": {
        "id": "Jpsqiuh5mMFf"
      },
      "execution_count": null,
      "outputs": []
    },
    {
      "cell_type": "code",
      "source": [
        "Counter(l_booba).most_common(20)"
      ],
      "metadata": {
        "id": "80_-m1sdnR3Y"
      },
      "execution_count": null,
      "outputs": []
    },
    {
      "cell_type": "markdown",
      "source": [
        "## WordCloud for 3 artists"
      ],
      "metadata": {
        "id": "5uPR7wBrv6Ze"
      }
    },
    {
      "cell_type": "code",
      "source": [
        "from wordcloud import WordCloud\n",
        "\n",
        "def cloud(str_artist):\n",
        "  artist = data[[\"artist\", \"lyrics_x\"]]\n",
        "  artist = artist.groupby(['artist'])['lyrics_x'].apply(' '.join).reset_index()\n",
        "  artist = artist[artist[\"artist\"] == str_artist]\n",
        "  lyrics_artist = artist[\"lyrics_x\"].apply(tokenizer)\n",
        "  lyrics_artist = list(lyrics_artist)\n",
        "  lyrics_artist = lyrics_artist[0]\n",
        "  Counter(lyrics_artist).most_common(20)\n",
        "  premiers_mots = list(Counter(lyrics_artist).most_common(20))\n",
        "  premiers_mots = [i[0] for i in premiers_mots]\n",
        "  premiers_mots\n",
        "  for i in range(len(lyrics_artist)):\n",
        "    if lyrics_artist[i] in sw:\n",
        "      lyrics_artist[i] = \"\"\n",
        "    if len(lyrics_artist[i]) <4:\n",
        "      lyrics_artist[i] = \"\"\n",
        "    if lyrics_artist[i] in premiers_mots:\n",
        "      lyrics_artist[i] = \"\"\n",
        "  l_artist = []\n",
        "  for e in lyrics_artist:\n",
        "    if e != '':\n",
        "      l_artist.append(e)\n",
        "  wordcloud = WordCloud(background_color=\"white\").generate(' '.join(l_artist))\n",
        "  plt.imshow(wordcloud)\n",
        "  plt.axis(\"off\")"
      ],
      "metadata": {
        "id": "ouhDreDHohZQ"
      },
      "execution_count": null,
      "outputs": []
    },
    {
      "cell_type": "code",
      "source": [
        "cloud(\"Kekra\")"
      ],
      "metadata": {
        "id": "Fgw07VRforkf"
      },
      "execution_count": null,
      "outputs": []
    },
    {
      "cell_type": "code",
      "source": [
        "cloud(\"PNL\")"
      ],
      "metadata": {
        "id": "oavEBCL0pQ2g"
      },
      "execution_count": null,
      "outputs": []
    },
    {
      "cell_type": "code",
      "source": [
        "cloud(\"Booba\")"
      ],
      "metadata": {
        "id": "1btTEdNXpQFG"
      },
      "execution_count": null,
      "outputs": []
    },
    {
      "cell_type": "markdown",
      "source": [
        "## Text classification : creation of a predictive model between a rap and a pop song"
      ],
      "metadata": {
        "id": "6M8qLYLYv9qV"
      }
    },
    {
      "cell_type": "code",
      "source": [
        "df_fr = pd.DataFrame()\n",
        "with open('/content/drive/MyDrive/datas/song_lyrics.csv') as fl:\n",
        "    chunk_iter = pd.read_csv(fl, sep=\",\", chunksize = 100000)\n",
        "    for chunk in chunk_iter:\n",
        "        chunk = chunk.loc[chunk['language'] == \"fr\"]\n",
        "        df_fr = pd.concat([df_fr,chunk])"
      ],
      "metadata": {
        "id": "ZOrQuhEU8uUC"
      },
      "execution_count": null,
      "outputs": []
    },
    {
      "cell_type": "code",
      "source": [
        "print(df_fr[\"tag\"].unique())"
      ],
      "metadata": {
        "id": "HHLWopgqC-5C"
      },
      "execution_count": null,
      "outputs": []
    },
    {
      "cell_type": "code",
      "source": [
        "df_pop_fr = df_fr.loc[df_fr['tag'] == \"pop\"]\n",
        "\n",
        "df_pop_fr"
      ],
      "metadata": {
        "id": "uDGVTjpVDIk1"
      },
      "execution_count": null,
      "outputs": []
    },
    {
      "cell_type": "code",
      "source": [
        "for col in df_pop_fr.columns:\n",
        "    print(col,': ',df_pop_fr[col].isnull().sum())"
      ],
      "metadata": {
        "id": "2EdQI4HCDxYI"
      },
      "execution_count": null,
      "outputs": []
    },
    {
      "cell_type": "code",
      "source": [
        "df_pop_fr.loc[:,\"title\"]=df_pop_fr.loc[:,\"title\"].fillna(\"titre_inconnu\")"
      ],
      "metadata": {
        "id": "-2rbjDbSD-c1"
      },
      "execution_count": null,
      "outputs": []
    },
    {
      "cell_type": "code",
      "source": [
        "df_pop_fr = df_pop_fr[[\"title\", \"artist\", \"lyrics\", \"tag\"]]\n",
        "df_pop_fr"
      ],
      "metadata": {
        "id": "a_Lv1wDYTcUY"
      },
      "execution_count": null,
      "outputs": []
    },
    {
      "cell_type": "code",
      "source": [
        "data = data.rename(columns={'lyrics_x': 'lyrics'})[[\"title\", \"artist\", \"lyrics\"]]\n",
        "data[\"tag\"] = \"rap\"\n",
        "\n",
        "data"
      ],
      "metadata": {
        "id": "mdkHOS1STivh"
      },
      "execution_count": null,
      "outputs": []
    },
    {
      "cell_type": "code",
      "source": [
        "chansons = pd.concat([data, df_pop_fr])"
      ],
      "metadata": {
        "id": "qJH-3rRwWv5N"
      },
      "execution_count": null,
      "outputs": []
    },
    {
      "cell_type": "code",
      "source": [
        "from sklearn.feature_extraction.text import TfidfVectorizer\n",
        "from sklearn.preprocessing import LabelEncoder\n",
        "\n",
        "\n",
        "from nltk.corpus import stopwords\n",
        "stopwords = stopwords.words('french')+[w for w in open(\"/content/drive/MyDrive/M2_Python/TP4/data/stopword.txt\",encoding='utf-8').read().split(\",\")]\n",
        "\n",
        "vec = TfidfVectorizer(stop_words=stopwords, ngram_range=(1,1))\n",
        "X_features = vec.fit_transform(chansons.lyrics)\n",
        "\n",
        "target = LabelEncoder().fit_transform(chansons.tag)\n",
        "\n",
        "from sklearn.model_selection import train_test_split\n",
        "X_train, X_test, y_train, y_test = train_test_split(X_features,target, test_size = 0.3, random_state=555)"
      ],
      "metadata": {
        "id": "qPKtfoLKYHN3"
      },
      "execution_count": null,
      "outputs": []
    },
    {
      "cell_type": "code",
      "source": [
        "print(X_train.shape)"
      ],
      "metadata": {
        "id": "ryWLX7LsYk37"
      },
      "execution_count": null,
      "outputs": []
    },
    {
      "cell_type": "code",
      "source": [
        "vec.get_feature_names_out()"
      ],
      "metadata": {
        "id": "HfHuGpzxYmcZ"
      },
      "execution_count": null,
      "outputs": []
    },
    {
      "cell_type": "markdown",
      "source": [
        "### Hyperparameters\n",
        "\n",
        "Not a lof of options in the grid, cv = 2 only, and only 2 models because the time of execution is really long"
      ],
      "metadata": {
        "id": "9QU030_Hhvn6"
      }
    },
    {
      "cell_type": "code",
      "source": [
        "from sklearn.linear_model import LogisticRegression\n",
        "from sklearn.ensemble import RandomForestClassifier\n",
        "from sklearn.ensemble import GradientBoostingClassifier\n",
        "from sklearn.ensemble import ExtraTreesClassifier\n",
        "from xgboost.sklearn import XGBClassifier\n",
        "\n",
        "random_seed=555\n",
        "\n",
        "# RF = {\n",
        "# 'model' : RandomForestClassifier(),\n",
        "# 'parameters' : {'n_estimators' : [20, 50,100],\n",
        "#                 'max_depth' : [10,30,50,70,90],\n",
        "#                 'random_state' : [random_seed]\n",
        "#                 }\n",
        "# }\n",
        "\n",
        "\n",
        "XGB = {\n",
        "'model' : XGBClassifier(),\n",
        "'parameters' : {'n_estimators' : [20, 60, 100],\n",
        "                 'learning_rate' : [1e-1, 1e-2, 1e-3],\n",
        "                 'seed' : [random_seed]\n",
        "                }\n",
        "}\n",
        "\n",
        "# SVM = {\n",
        "# 'model' : SVC(),\n",
        "# 'parameters' : {\n",
        "#                 'kernel' : ['linear'],\n",
        "#                 'C': [0.1, 1],\n",
        "#                 'gamma' : [0.001,0.01, 0.1],\n",
        "#                 'tol' : [ 1e-2, 1e-3],\n",
        "#                 'random_state' : [random_seed]\n",
        "#                 }\n",
        "# }\n",
        "\n",
        "XT = {\n",
        "'model' : ExtraTreesClassifier(),\n",
        "'parameters' : {'n_estimators' : [20, 100],\n",
        "                'max_depth' : [30, 70],\n",
        "                'random_state' : [random_seed]\n",
        "                }\n",
        "}\n",
        "\n",
        "Models_list = [XT, XGB]\n",
        "\n",
        "from sklearn.model_selection import GridSearchCV\n",
        "scorer ='f1'\n",
        "res={}\n",
        "for model_class in Models_list:\n",
        "    print(str(model_class['model']).split('(')[0])\n",
        "    model_opt=GridSearchCV(estimator=model_class['model'],param_grid=model_class['parameters'], cv=3, scoring = scorer, return_train_score=True).fit(X_train, y_train)\n",
        "    res.update({str(model_class['model']).split('(')[0] : model_opt.cv_results_})"
      ],
      "metadata": {
        "id": "fpApQ6TsYp8H"
      },
      "execution_count": null,
      "outputs": []
    },
    {
      "cell_type": "code",
      "source": [
        "import pandas as pd\n",
        "\n",
        "df_res=pd.DataFrame({'algo':[],'mean_train_score': [],'std_train_score': [],'mean_test_score': [], 'std_test_score':[],'params':[]})\n",
        "for algo in list(res):\n",
        "    model_opt=res[algo]\n",
        "    df=pd.DataFrame({'algo':algo,'mean_train_score':model_opt['mean_train_score'],'std_train_score':model_opt['std_train_score'], 'mean_test_score':model_opt['mean_test_score'],'std_test_score':model_opt['std_test_score'],'params':model_opt['params']}, )\n",
        "    df_res = pd.concat([df_res, df],ignore_index=True)\n",
        "\n",
        "df_res.sort_values(['mean_test_score','std_test_score','mean_train_score','std_train_score'], ascending=[False,True,False,True])"
      ],
      "metadata": {
        "id": "uvgjM0vvYxMk"
      },
      "execution_count": null,
      "outputs": []
    },
    {
      "cell_type": "code",
      "source": [
        "#Détermine le meilleur candidat (i.e. celui qui minimise la variance et maximise le score f1 sur des échantillons de test)\n",
        "index_best=df_res.sort_values(['mean_test_score','std_test_score','mean_train_score','std_train_score'], ascending=[False,True,False,True]).index[0]\n",
        "fig = plt.figure(figsize=(10,7))\n",
        "color_list = [\"#8CB4CA\", \"#FFC000\",  \"#FF8B94\"]\n",
        "for cand_algo,col in zip(df_res['algo'].unique().tolist(),color_list):\n",
        "    #Pour chacun des types algo, on affichera le nuage de points en utilisant une couleur différente (col)\n",
        "    plt.scatter(df_res[df_res[\"algo\"]==cand_algo]['mean_test_score'],df_res[df_res[\"algo\"]==cand_algo]['std_test_score'], color=col, s=7, label=cand_algo)\n",
        "\n",
        "#Affiche le meilleur candidat via l'indice index_best\n",
        "plt.scatter(df_res.loc[index_best,'mean_test_score'],df_res.loc[index_best,'std_test_score'], color='red',marker='p', s=200, label=\"Best (\"+str(df_res.loc[index_best][\"algo\"])+')')\n",
        "\n",
        "#Légende + axe x/y\n",
        "plt.xlabel('Mean_test_score')\n",
        "plt.ylabel('Std_test_score')\n",
        "plt.title('All the candidates of the grid \\n(with '+scorer+'-score | '+str(df_res.shape[0])+' testes candidates)', size = 'x-large')\n",
        "plt.legend(loc=2)\n",
        "\n",
        "print(df_res.loc[index_best,'algo'],df_res.loc[index_best,'params'])"
      ],
      "metadata": {
        "id": "lZoAvLMQYzrL"
      },
      "execution_count": null,
      "outputs": []
    },
    {
      "cell_type": "code",
      "source": [
        "# best model\n",
        "\n",
        "model_XGB = XGBClassifier(learning_rate=0.1,n_estimators=100, seed=555)\n",
        "model_XGB.fit(X_train, y_train)"
      ],
      "metadata": {
        "id": "MEle0hfOY0mQ"
      },
      "execution_count": null,
      "outputs": []
    },
    {
      "cell_type": "code",
      "source": [
        "from sklearn.metrics import confusion_matrix\n",
        "confusion_matrix(y_test, model_XGB.predict(X_test))"
      ],
      "metadata": {
        "id": "ys_IXgglY2OX"
      },
      "execution_count": null,
      "outputs": []
    },
    {
      "cell_type": "code",
      "source": [
        "from sklearn.metrics import roc_auc_score, brier_score_loss, average_precision_score, f1_score, accuracy_score, matthews_corrcoef, precision_score, recall_score, fbeta_score, cohen_kappa_score\n",
        "def calcul_metrique_fct(list_models,list_metrics,y_test=y_test,y_train=y_train,X_test=X_test,X_train=X_train):\n",
        "    for model in list_models:\n",
        "        print(str(model).split('(')[0])\n",
        "        for metric in list_metrics:\n",
        "            name_metric=str(metric).split(' ')[1]\n",
        "            if name_metric in ['roc_auc_score','brier_score_loss']:\n",
        "                perf_train=metric(y_train,[pr[1] for pr in model.predict_proba(X_train)])\n",
        "                perf_test=metric(y_test,[pr[1] for pr in model.predict_proba(X_test)])\n",
        "                print(\"\\t{0:s} Train : {1:f} \\t Test {2:f}\".format(name_metric,perf_train,perf_test))\n",
        "            else:\n",
        "                perf_train=metric(y_true=y_train,y_pred=model.predict(X_train))\n",
        "                perf_test=metric(y_true=y_test,y_pred=model.predict(X_test))\n",
        "                print(\"\\t{0:s} Train : {1:f} \\t Test {2:f}\".format(name_metric,perf_train,perf_test))\n",
        "\n",
        "\n",
        "calcul_metrique_fct([model_XGB], list_metrics=[f1_score,accuracy_score,brier_score_loss,roc_auc_score])"
      ],
      "metadata": {
        "id": "eGEUxJD2Y3YH"
      },
      "execution_count": null,
      "outputs": []
    }
  ]
}